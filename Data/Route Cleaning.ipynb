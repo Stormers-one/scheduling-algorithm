{
 "cells": [
  {
   "cell_type": "code",
   "execution_count": 2,
   "id": "7f4ccce0",
   "metadata": {},
   "outputs": [],
   "source": [
    "import pandas as pd\n",
    "from glob import glob \n",
    "import numpy as np"
   ]
  },
  {
   "cell_type": "code",
   "execution_count": 51,
   "id": "19de565a",
   "metadata": {},
   "outputs": [],
   "source": [
    "path =r'C:\\Users\\Aquaregis32\\Documents\\Github\\scheduling-algorithm\\Data\\RoutesAanavandi'\n",
    "filenames = glob(path + \"\\*.csv\")\n",
    "filenames = filenames[1:]"
   ]
  },
  {
   "cell_type": "code",
   "execution_count": 52,
   "id": "5e812872",
   "metadata": {},
   "outputs": [
    {
     "data": {
      "text/plain": [
       "['C:\\\\Users\\\\Aquaregis32\\\\Documents\\\\Github\\\\scheduling-algorithm\\\\Data\\\\RoutesAanavandi\\\\public.route_10000.csv',\n",
       " 'C:\\\\Users\\\\Aquaregis32\\\\Documents\\\\Github\\\\scheduling-algorithm\\\\Data\\\\RoutesAanavandi\\\\public.route_10001.csv',\n",
       " 'C:\\\\Users\\\\Aquaregis32\\\\Documents\\\\Github\\\\scheduling-algorithm\\\\Data\\\\RoutesAanavandi\\\\public.route_10002.csv',\n",
       " 'C:\\\\Users\\\\Aquaregis32\\\\Documents\\\\Github\\\\scheduling-algorithm\\\\Data\\\\RoutesAanavandi\\\\public.route_10003.csv',\n",
       " 'C:\\\\Users\\\\Aquaregis32\\\\Documents\\\\Github\\\\scheduling-algorithm\\\\Data\\\\RoutesAanavandi\\\\public.route_10004.csv',\n",
       " 'C:\\\\Users\\\\Aquaregis32\\\\Documents\\\\Github\\\\scheduling-algorithm\\\\Data\\\\RoutesAanavandi\\\\public.route_10005.csv',\n",
       " 'C:\\\\Users\\\\Aquaregis32\\\\Documents\\\\Github\\\\scheduling-algorithm\\\\Data\\\\RoutesAanavandi\\\\public.route_10006.csv',\n",
       " 'C:\\\\Users\\\\Aquaregis32\\\\Documents\\\\Github\\\\scheduling-algorithm\\\\Data\\\\RoutesAanavandi\\\\public.route_10007.csv',\n",
       " 'C:\\\\Users\\\\Aquaregis32\\\\Documents\\\\Github\\\\scheduling-algorithm\\\\Data\\\\RoutesAanavandi\\\\public.route_10008.csv',\n",
       " 'C:\\\\Users\\\\Aquaregis32\\\\Documents\\\\Github\\\\scheduling-algorithm\\\\Data\\\\RoutesAanavandi\\\\public.route_10009.csv']"
      ]
     },
     "execution_count": 52,
     "metadata": {},
     "output_type": "execute_result"
    }
   ],
   "source": [
    "filenames[0:10]"
   ]
  },
  {
   "cell_type": "code",
   "execution_count": 91,
   "id": "d1c93b27",
   "metadata": {},
   "outputs": [
    {
     "data": {
      "text/html": [
       "<div>\n",
       "<style scoped>\n",
       "    .dataframe tbody tr th:only-of-type {\n",
       "        vertical-align: middle;\n",
       "    }\n",
       "\n",
       "    .dataframe tbody tr th {\n",
       "        vertical-align: top;\n",
       "    }\n",
       "\n",
       "    .dataframe thead th {\n",
       "        text-align: right;\n",
       "    }\n",
       "</style>\n",
       "<table border=\"1\" class=\"dataframe\">\n",
       "  <thead>\n",
       "    <tr style=\"text-align: right;\">\n",
       "      <th></th>\n",
       "      <th>route_name</th>\n",
       "      <th>bus_type</th>\n",
       "      <th>via_route</th>\n",
       "      <th>bus_code</th>\n",
       "      <th>from_location</th>\n",
       "      <th>to_location</th>\n",
       "    </tr>\n",
       "  </thead>\n",
       "  <tbody>\n",
       "    <tr>\n",
       "      <th>0</th>\n",
       "      <td>Kasargod - Kallumvalapp</td>\n",
       "      <td>Ordinary</td>\n",
       "      <td>Deli</td>\n",
       "      <td>2000</td>\n",
       "      <td>Kasargod</td>\n",
       "      <td>Kallumvalapp</td>\n",
       "    </tr>\n",
       "    <tr>\n",
       "      <th>1</th>\n",
       "      <td>Kallumvalapp - Kasargod</td>\n",
       "      <td>Ordinary</td>\n",
       "      <td>Deli</td>\n",
       "      <td>2001</td>\n",
       "      <td>Kallumvalapp</td>\n",
       "      <td>Kasargod</td>\n",
       "    </tr>\n",
       "    <tr>\n",
       "      <th>2</th>\n",
       "      <td>Thiruvatta- Karunagappally</td>\n",
       "      <td>Ordinary</td>\n",
       "      <td>Kadapuzha, Sasthamkotta</td>\n",
       "      <td>6000</td>\n",
       "      <td>Thiruvatta</td>\n",
       "      <td>Karunagappally</td>\n",
       "    </tr>\n",
       "    <tr>\n",
       "      <th>3</th>\n",
       "      <td>Alappuzha- Chengannur</td>\n",
       "      <td>Ordinary</td>\n",
       "      <td>Pallipad, Parayankery, Chennithala</td>\n",
       "      <td>6500</td>\n",
       "      <td>Alappuzha</td>\n",
       "      <td>Chengannur</td>\n",
       "    </tr>\n",
       "    <tr>\n",
       "      <th>4</th>\n",
       "      <td>Kallumvalapp - Kasargod</td>\n",
       "      <td>Ordinary</td>\n",
       "      <td>Deli</td>\n",
       "      <td>2002</td>\n",
       "      <td>Kallumvalapp</td>\n",
       "      <td>Kasargod</td>\n",
       "    </tr>\n",
       "  </tbody>\n",
       "</table>\n",
       "</div>"
      ],
      "text/plain": [
       "                   route_name  bus_type                           via_route  \\\n",
       "0     Kasargod - Kallumvalapp  Ordinary                                Deli   \n",
       "1     Kallumvalapp - Kasargod  Ordinary                                Deli   \n",
       "2  Thiruvatta- Karunagappally  Ordinary             Kadapuzha, Sasthamkotta   \n",
       "3       Alappuzha- Chengannur  Ordinary  Pallipad, Parayankery, Chennithala   \n",
       "4     Kallumvalapp - Kasargod  Ordinary                                Deli   \n",
       "\n",
       "   bus_code from_location     to_location  \n",
       "0      2000      Kasargod    Kallumvalapp  \n",
       "1      2001  Kallumvalapp        Kasargod  \n",
       "2      6000    Thiruvatta  Karunagappally  \n",
       "3      6500     Alappuzha      Chengannur  \n",
       "4      2002  Kallumvalapp        Kasargod  "
      ]
     },
     "execution_count": 91,
     "metadata": {},
     "output_type": "execute_result"
    }
   ],
   "source": [
    "routes = pd.read_csv('RoutesAanavandi/public.bus_list.csv', header=0, index_col=None, delimiter=\";\")\n",
    "routes.head()"
   ]
  },
  {
   "cell_type": "code",
   "execution_count": 93,
   "id": "7c0f22cf",
   "metadata": {},
   "outputs": [
    {
     "name": "stdout",
     "output_type": "stream",
     "text": [
      "40163\n",
      "13450\n"
     ]
    }
   ],
   "source": [
    "r = pd.DataFrame(routes.loc[:,\"via_route\"] + \" \" + routes.loc[:,\"from_location\"] + \" \" + routes.loc[:,\"to_location\"])\n",
    "print(len(routes))\n",
    "print(len(r.iloc[:,0].unique()))"
   ]
  },
  {
   "cell_type": "code",
   "execution_count": 53,
   "id": "0f163531",
   "metadata": {},
   "outputs": [],
   "source": [
    "bus_schedules = [pd.read_csv(file, index_col = None, delimiter=\";\") for file in filenames]"
   ]
  },
  {
   "cell_type": "code",
   "execution_count": null,
   "id": "45f44f98",
   "metadata": {},
   "outputs": [],
   "source": [
    "for i in "
   ]
  },
  {
   "cell_type": "code",
   "execution_count": 58,
   "id": "22e29148",
   "metadata": {
    "scrolled": true
   },
   "outputs": [
    {
     "data": {
      "text/plain": [
       "[0       THODUPUZHA (TDP)\n",
       " 1    MUTTOM (THODUPUZHA)\n",
       " 2                 KANJAR\n",
       " 3      MOOLAMATTOM (MLT)\n",
       " Name: bus_stop, dtype: object,\n",
       " 0       THODUPUZHA (TDP)\n",
       " 1    MUTTOM (THODUPUZHA)\n",
       " 2                 KANJAR\n",
       " 3      MOOLAMATTOM (MLT)\n",
       " Name: bus_stop, dtype: object]"
      ]
     },
     "execution_count": 58,
     "metadata": {},
     "output_type": "execute_result"
    }
   ],
   "source": [
    "def create_schd(bus_all):\n",
    "    for i in bus_all"
   ]
  },
  {
   "cell_type": "code",
   "execution_count": null,
   "id": "8185b961",
   "metadata": {},
   "outputs": [],
   "source": []
  }
 ],
 "metadata": {
  "kernelspec": {
   "display_name": "Python 3",
   "language": "python",
   "name": "python3"
  },
  "language_info": {
   "codemirror_mode": {
    "name": "ipython",
    "version": 3
   },
   "file_extension": ".py",
   "mimetype": "text/x-python",
   "name": "python",
   "nbconvert_exporter": "python",
   "pygments_lexer": "ipython3",
   "version": "3.9.4"
  }
 },
 "nbformat": 4,
 "nbformat_minor": 5
}
