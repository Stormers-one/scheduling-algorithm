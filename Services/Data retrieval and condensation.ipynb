{
 "cells": [
  {
   "cell_type": "code",
   "execution_count": 1,
   "id": "69f17753",
   "metadata": {},
   "outputs": [],
   "source": [
    "import firebase_admin\n",
    "from firebase_admin import credentials\n",
    "from firebase_admin import firestore"
   ]
  },
  {
   "cell_type": "code",
   "execution_count": 2,
   "id": "22098aba",
   "metadata": {},
   "outputs": [],
   "source": [
    "import re\n",
    "import base64\n",
    "import json\n",
    "import numpy as np\n",
    "import pandas as pd"
   ]
  },
  {
   "cell_type": "code",
   "execution_count": 3,
   "id": "cfb1142b",
   "metadata": {},
   "outputs": [],
   "source": [
    "# Use a service account\n",
    "cred = credentials.Certificate('key/oduFireKey.json')\n",
    "firebase_admin.initialize_app(cred)\n",
    "\n",
    "db = firestore.client()"
   ]
  },
  {
   "cell_type": "markdown",
   "id": "62067d02",
   "metadata": {},
   "source": [
    "# Routes"
   ]
  },
  {
   "cell_type": "code",
   "execution_count": 4,
   "id": "f4519207",
   "metadata": {},
   "outputs": [],
   "source": [
    "routes_ref = db.collection(u'Routes')\n",
    "routes_firebaseGenerator = routes_ref.stream()\n",
    "routes = [doc.to_dict() for doc in routes_firebaseGenerator]"
   ]
  },
  {
   "cell_type": "code",
   "execution_count": 5,
   "id": "cac74c0b",
   "metadata": {
    "scrolled": true
   },
   "outputs": [
    {
     "data": {
      "text/plain": [
       "{'from_location': 'Thodupuzha',\n",
       " 'to_location': 'Moolamattom',\n",
       " 'bus_code': 10000,\n",
       " 'via_route': 'Muttom',\n",
       " 'bus_type': 'Ordinary',\n",
       " 'route_name': 'Thodupuzha - Moolamattom'}"
      ]
     },
     "execution_count": 5,
     "metadata": {},
     "output_type": "execute_result"
    }
   ],
   "source": [
    "routes[0]"
   ]
  },
  {
   "cell_type": "code",
   "execution_count": 30,
   "id": "1a3f8640",
   "metadata": {},
   "outputs": [],
   "source": [
    "route_id = 1000000\n",
    "route_dict = {}\n",
    "_id = 'a'\n",
    "for route in routes:\n",
    "    routeName = [route['from_location'],' - ',route['to_location']]\n",
    "    opt_1 = ''.join(routeName)\n",
    "    opt_1 = opt_1 # + ', via_route: '+ route['via_route']\n",
    "    opt_2 = ''.join(routeName[::-1]) \n",
    "    opt_2 = opt_2 # + ', via_route: '+ route['via_route']\n",
    "    opt_1, opt_2 = opt_1.strip(), opt_2.strip()\n",
    "    flag_1, flag_2 = 0, 0\n",
    "    if(opt_1 in route_dict):\n",
    "        flag_1 = 1\n",
    "    if(opt_2 in route_dict):\n",
    "        flag_2 = 1\n",
    "    if(flag_1 == 0 and flag_2 == 0):\n",
    "        if(len(route['via_route'])!=0):\n",
    "            route_dict[opt_1] = {\n",
    "                'id':str(route_id)[1:],\n",
    "                'route_name':route['route_name'],\n",
    "                'via':1,\n",
    "                'via_route':{route['via_route']:_id}\n",
    "            }\n",
    "        else:\n",
    "            route_dict[opt_1] = {\n",
    "                'id':str(route_id)[1:],\n",
    "                'route_name':route['route_name'],\n",
    "                'via':0,\n",
    "                'via_route':{}\n",
    "            }\n",
    "        route_id+=1\n",
    "    else:\n",
    "        if(flag_1 == 1):\n",
    "            if(route['via_route'] not in route_dict[opt_1]['via_route']):\n",
    "                route_dict[opt_1]['via_route'][route['via_route']] = chr(ord(_id) + route_dict[opt_1]['via'])\n",
    "                route_dict[opt_1]['via']+=1\n",
    "        else:\n",
    "            if(route['via_route'] not in route_dict[opt_2]['via_route']):\n",
    "                route_dict[opt_2]['via_route'][route['via_route']] = chr(ord(_id) + route_dict[opt_2]['via'])\n",
    "                route_dict[opt_2]['via']+=1"
   ]
  },
  {
   "cell_type": "code",
   "execution_count": 31,
   "id": "dcfc5c48",
   "metadata": {
    "scrolled": true
   },
   "outputs": [
    {
     "data": {
      "text/plain": [
       "6105"
      ]
     },
     "execution_count": 31,
     "metadata": {},
     "output_type": "execute_result"
    }
   ],
   "source": [
    "len(route_dict)"
   ]
  },
  {
   "cell_type": "code",
   "execution_count": 32,
   "id": "1bd2a8ee",
   "metadata": {
    "scrolled": true
   },
   "outputs": [
    {
     "data": {
      "text/plain": [
       "[{'a': ['Muttom'],\n",
       "  'b': ['Muttom', 'Kakkomb'],\n",
       "  'c': ['Velliyamattom', 'Poochapra'],\n",
       "  'd': ['Kakkomb'],\n",
       "  'e': ['Velliyavattom', 'Guruthikalam'],\n",
       "  'f': ['Kanjar', 'Muttom'],\n",
       "  'g': ['Muttom', 'Kanjar']},\n",
       " {'a': ['Moolamattom', 'Cheruthoni', 'Karimban', 'Murikkassery'],\n",
       "  'b': ['Murikkassery', 'Cheruthoni', 'Moolamattom'],\n",
       "  'c': ['Murikkassery', 'Cheruthoni', 'Uppukunnu'],\n",
       "  'd': ['Uppukunnu', 'Cheruthoni', 'Karimban', 'Murikkassery']},\n",
       " {'a': ['Murikkassery', 'Cheruthoni', 'Moolamattom', 'Thodupuzha', 'Pala']}]"
      ]
     },
     "execution_count": 32,
     "metadata": {},
     "output_type": "execute_result"
    }
   ],
   "source": [
    "routes_dict = {value['id']:value for key,value in route_dict.items()}\n",
    "via_routes = [{y:x for x,y in value['via_route'].items()} for key,value in routes_dict.items()]\n",
    "via_routes = [{key:[x.strip() for x in value.split(',')] for key,value in via_r.items()} for via_r in via_routes]\n",
    "i = 0\n",
    "for key, value in routes_dict.items():\n",
    "    routes_dict[key]['via_route'] = via_routes[i]\n",
    "    i+=1\n",
    "via_routes[:3]"
   ]
  },
  {
   "cell_type": "code",
   "execution_count": 33,
   "id": "2373e6df",
   "metadata": {},
   "outputs": [
    {
     "data": {
      "text/plain": [
       "[{'id': '000000',\n",
       "  'route_name': 'Thodupuzha - Moolamattom',\n",
       "  'via': 7,\n",
       "  'via_route': {'a': ['Muttom'],\n",
       "   'b': ['Muttom', 'Kakkomb'],\n",
       "   'c': ['Velliyamattom', 'Poochapra'],\n",
       "   'd': ['Kakkomb'],\n",
       "   'e': ['Velliyavattom', 'Guruthikalam'],\n",
       "   'f': ['Kanjar', 'Muttom'],\n",
       "   'g': ['Muttom', 'Kanjar']}},\n",
       " {'id': '000001',\n",
       "  'route_name': 'Thodupuzha - Thopramkudy',\n",
       "  'via': 4,\n",
       "  'via_route': {'a': ['Moolamattom', 'Cheruthoni', 'Karimban', 'Murikkassery'],\n",
       "   'b': ['Murikkassery', 'Cheruthoni', 'Moolamattom'],\n",
       "   'c': ['Murikkassery', 'Cheruthoni', 'Uppukunnu'],\n",
       "   'd': ['Uppukunnu', 'Cheruthoni', 'Karimban', 'Murikkassery']}},\n",
       " {'id': '000002',\n",
       "  'route_name': 'Thopramkudy - Kottayam',\n",
       "  'via': 1,\n",
       "  'via_route': {'a': ['Murikkassery',\n",
       "    'Cheruthoni',\n",
       "    'Moolamattom',\n",
       "    'Thodupuzha',\n",
       "    'Pala']}}]"
      ]
     },
     "execution_count": 33,
     "metadata": {},
     "output_type": "execute_result"
    }
   ],
   "source": [
    "[x for x in routes_dict.values()][:3]"
   ]
  },
  {
   "cell_type": "code",
   "execution_count": 37,
   "id": "32596a8c",
   "metadata": {},
   "outputs": [
    {
     "data": {
      "text/plain": [
       "{'id': '000536',\n",
       " 'route_name': 'Thrissur - Piravom',\n",
       " 'via': 1,\n",
       " 'via_route': {'a': ['Chalakudy', 'Ernakulam', 'Chottanikara']}}"
      ]
     },
     "execution_count": 37,
     "metadata": {},
     "output_type": "execute_result"
    }
   ],
   "source": [
    "routes_dict['000536']"
   ]
  },
  {
   "cell_type": "code",
   "execution_count": 34,
   "id": "41fd0181",
   "metadata": {},
   "outputs": [],
   "source": [
    "with open('routes.txt', 'w') as routes_file:\n",
    "     routes_file.write(json.dumps(routes_dict))"
   ]
  },
  {
   "cell_type": "markdown",
   "id": "6055b29b",
   "metadata": {},
   "source": [
    "### Upload collection to firebase collection \n",
    "#### \"Unique Routes\" Collection"
   ]
  },
  {
   "cell_type": "code",
   "execution_count": 35,
   "id": "f732b6b0",
   "metadata": {},
   "outputs": [],
   "source": [
    "uniqueRoutes_ref = db.collection(u'Unique Routes')"
   ]
  },
  {
   "cell_type": "code",
   "execution_count": 38,
   "id": "1d1afabf",
   "metadata": {},
   "outputs": [
    {
     "ename": "KeyboardInterrupt",
     "evalue": "",
     "output_type": "error",
     "traceback": [
      "\u001b[1;31m---------------------------------------------------------------------------\u001b[0m",
      "\u001b[1;31mKeyboardInterrupt\u001b[0m                         Traceback (most recent call last)",
      "\u001b[1;32m<ipython-input-38-9129f038c6fe>\u001b[0m in \u001b[0;36m<module>\u001b[1;34m\u001b[0m\n\u001b[0;32m      7\u001b[0m     \u001b[1;32mfor\u001b[0m \u001b[0mvia_key\u001b[0m\u001b[1;33m,\u001b[0m\u001b[0mvia_value\u001b[0m \u001b[1;32min\u001b[0m \u001b[0mvalue\u001b[0m\u001b[1;33m[\u001b[0m\u001b[1;34m'via_route'\u001b[0m\u001b[1;33m]\u001b[0m\u001b[1;33m.\u001b[0m\u001b[0mitems\u001b[0m\u001b[1;33m(\u001b[0m\u001b[1;33m)\u001b[0m\u001b[1;33m:\u001b[0m\u001b[1;33m\u001b[0m\u001b[1;33m\u001b[0m\u001b[0m\n\u001b[0;32m      8\u001b[0m         \u001b[0mtemp_2\u001b[0m \u001b[1;33m=\u001b[0m \u001b[1;33m{\u001b[0m\u001b[0mvia_key\u001b[0m\u001b[1;33m:\u001b[0m\u001b[0mvia_value\u001b[0m\u001b[1;33m}\u001b[0m\u001b[1;33m\u001b[0m\u001b[1;33m\u001b[0m\u001b[0m\n\u001b[1;32m----> 9\u001b[1;33m         \u001b[0muniqueRoutes_ref\u001b[0m\u001b[1;33m.\u001b[0m\u001b[0mdocument\u001b[0m\u001b[1;33m(\u001b[0m\u001b[0mvalue\u001b[0m\u001b[1;33m[\u001b[0m\u001b[1;34m'id'\u001b[0m\u001b[1;33m]\u001b[0m\u001b[1;33m)\u001b[0m\u001b[1;33m.\u001b[0m\u001b[0mcollection\u001b[0m\u001b[1;33m(\u001b[0m\u001b[1;34m'Via Route(s)'\u001b[0m\u001b[1;33m)\u001b[0m\u001b[1;33m.\u001b[0m\u001b[0mdocument\u001b[0m\u001b[1;33m(\u001b[0m\u001b[0mvia_key\u001b[0m\u001b[1;33m)\u001b[0m\u001b[1;33m.\u001b[0m\u001b[0mset\u001b[0m\u001b[1;33m(\u001b[0m\u001b[0mtemp_2\u001b[0m\u001b[1;33m)\u001b[0m\u001b[1;33m\u001b[0m\u001b[1;33m\u001b[0m\u001b[0m\n\u001b[0m",
      "\u001b[1;32m~\\.conda\\envs\\o_k\\lib\\site-packages\\google\\cloud\\firestore_v1\\document.py\u001b[0m in \u001b[0;36mset\u001b[1;34m(self, document_data, merge, retry, timeout)\u001b[0m\n\u001b[0;32m    165\u001b[0m         \"\"\"\n\u001b[0;32m    166\u001b[0m         \u001b[0mbatch\u001b[0m\u001b[1;33m,\u001b[0m \u001b[0mkwargs\u001b[0m \u001b[1;33m=\u001b[0m \u001b[0mself\u001b[0m\u001b[1;33m.\u001b[0m\u001b[0m_prep_set\u001b[0m\u001b[1;33m(\u001b[0m\u001b[0mdocument_data\u001b[0m\u001b[1;33m,\u001b[0m \u001b[0mmerge\u001b[0m\u001b[1;33m,\u001b[0m \u001b[0mretry\u001b[0m\u001b[1;33m,\u001b[0m \u001b[0mtimeout\u001b[0m\u001b[1;33m)\u001b[0m\u001b[1;33m\u001b[0m\u001b[1;33m\u001b[0m\u001b[0m\n\u001b[1;32m--> 167\u001b[1;33m         \u001b[0mwrite_results\u001b[0m \u001b[1;33m=\u001b[0m \u001b[0mbatch\u001b[0m\u001b[1;33m.\u001b[0m\u001b[0mcommit\u001b[0m\u001b[1;33m(\u001b[0m\u001b[1;33m**\u001b[0m\u001b[0mkwargs\u001b[0m\u001b[1;33m)\u001b[0m\u001b[1;33m\u001b[0m\u001b[1;33m\u001b[0m\u001b[0m\n\u001b[0m\u001b[0;32m    168\u001b[0m         \u001b[1;32mreturn\u001b[0m \u001b[0m_first_write_result\u001b[0m\u001b[1;33m(\u001b[0m\u001b[0mwrite_results\u001b[0m\u001b[1;33m)\u001b[0m\u001b[1;33m\u001b[0m\u001b[1;33m\u001b[0m\u001b[0m\n\u001b[0;32m    169\u001b[0m \u001b[1;33m\u001b[0m\u001b[0m\n",
      "\u001b[1;32m~\\.conda\\envs\\o_k\\lib\\site-packages\\google\\cloud\\firestore_v1\\batch.py\u001b[0m in \u001b[0;36mcommit\u001b[1;34m(self, retry, timeout)\u001b[0m\n\u001b[0;32m     55\u001b[0m         \u001b[0mrequest\u001b[0m\u001b[1;33m,\u001b[0m \u001b[0mkwargs\u001b[0m \u001b[1;33m=\u001b[0m \u001b[0mself\u001b[0m\u001b[1;33m.\u001b[0m\u001b[0m_prep_commit\u001b[0m\u001b[1;33m(\u001b[0m\u001b[0mretry\u001b[0m\u001b[1;33m,\u001b[0m \u001b[0mtimeout\u001b[0m\u001b[1;33m)\u001b[0m\u001b[1;33m\u001b[0m\u001b[1;33m\u001b[0m\u001b[0m\n\u001b[0;32m     56\u001b[0m \u001b[1;33m\u001b[0m\u001b[0m\n\u001b[1;32m---> 57\u001b[1;33m         commit_response = self._client._firestore_api.commit(\n\u001b[0m\u001b[0;32m     58\u001b[0m             \u001b[0mrequest\u001b[0m\u001b[1;33m=\u001b[0m\u001b[0mrequest\u001b[0m\u001b[1;33m,\u001b[0m \u001b[0mmetadata\u001b[0m\u001b[1;33m=\u001b[0m\u001b[0mself\u001b[0m\u001b[1;33m.\u001b[0m\u001b[0m_client\u001b[0m\u001b[1;33m.\u001b[0m\u001b[0m_rpc_metadata\u001b[0m\u001b[1;33m,\u001b[0m \u001b[1;33m**\u001b[0m\u001b[0mkwargs\u001b[0m\u001b[1;33m,\u001b[0m\u001b[1;33m\u001b[0m\u001b[1;33m\u001b[0m\u001b[0m\n\u001b[0;32m     59\u001b[0m         )\n",
      "\u001b[1;32m~\\.conda\\envs\\o_k\\lib\\site-packages\\google\\cloud\\firestore_v1\\services\\firestore\\client.py\u001b[0m in \u001b[0;36mcommit\u001b[1;34m(self, request, database, writes, retry, timeout, metadata)\u001b[0m\n\u001b[0;32m    834\u001b[0m \u001b[1;33m\u001b[0m\u001b[0m\n\u001b[0;32m    835\u001b[0m         \u001b[1;31m# Send the request.\u001b[0m\u001b[1;33m\u001b[0m\u001b[1;33m\u001b[0m\u001b[1;33m\u001b[0m\u001b[0m\n\u001b[1;32m--> 836\u001b[1;33m         \u001b[0mresponse\u001b[0m \u001b[1;33m=\u001b[0m \u001b[0mrpc\u001b[0m\u001b[1;33m(\u001b[0m\u001b[0mrequest\u001b[0m\u001b[1;33m,\u001b[0m \u001b[0mretry\u001b[0m\u001b[1;33m=\u001b[0m\u001b[0mretry\u001b[0m\u001b[1;33m,\u001b[0m \u001b[0mtimeout\u001b[0m\u001b[1;33m=\u001b[0m\u001b[0mtimeout\u001b[0m\u001b[1;33m,\u001b[0m \u001b[0mmetadata\u001b[0m\u001b[1;33m=\u001b[0m\u001b[0mmetadata\u001b[0m\u001b[1;33m,\u001b[0m\u001b[1;33m)\u001b[0m\u001b[1;33m\u001b[0m\u001b[1;33m\u001b[0m\u001b[0m\n\u001b[0m\u001b[0;32m    837\u001b[0m \u001b[1;33m\u001b[0m\u001b[0m\n\u001b[0;32m    838\u001b[0m         \u001b[1;31m# Done; return the response.\u001b[0m\u001b[1;33m\u001b[0m\u001b[1;33m\u001b[0m\u001b[1;33m\u001b[0m\u001b[0m\n",
      "\u001b[1;32m~\\.conda\\envs\\o_k\\lib\\site-packages\\google\\api_core\\gapic_v1\\method.py\u001b[0m in \u001b[0;36m__call__\u001b[1;34m(self, *args, **kwargs)\u001b[0m\n\u001b[0;32m    143\u001b[0m             \u001b[0mkwargs\u001b[0m\u001b[1;33m[\u001b[0m\u001b[1;34m\"metadata\"\u001b[0m\u001b[1;33m]\u001b[0m \u001b[1;33m=\u001b[0m \u001b[0mmetadata\u001b[0m\u001b[1;33m\u001b[0m\u001b[1;33m\u001b[0m\u001b[0m\n\u001b[0;32m    144\u001b[0m \u001b[1;33m\u001b[0m\u001b[0m\n\u001b[1;32m--> 145\u001b[1;33m         \u001b[1;32mreturn\u001b[0m \u001b[0mwrapped_func\u001b[0m\u001b[1;33m(\u001b[0m\u001b[1;33m*\u001b[0m\u001b[0margs\u001b[0m\u001b[1;33m,\u001b[0m \u001b[1;33m**\u001b[0m\u001b[0mkwargs\u001b[0m\u001b[1;33m)\u001b[0m\u001b[1;33m\u001b[0m\u001b[1;33m\u001b[0m\u001b[0m\n\u001b[0m\u001b[0;32m    146\u001b[0m \u001b[1;33m\u001b[0m\u001b[0m\n\u001b[0;32m    147\u001b[0m \u001b[1;33m\u001b[0m\u001b[0m\n",
      "\u001b[1;32m~\\.conda\\envs\\o_k\\lib\\site-packages\\google\\api_core\\retry.py\u001b[0m in \u001b[0;36mretry_wrapped_func\u001b[1;34m(*args, **kwargs)\u001b[0m\n\u001b[0;32m    283\u001b[0m                 \u001b[0mself\u001b[0m\u001b[1;33m.\u001b[0m\u001b[0m_initial\u001b[0m\u001b[1;33m,\u001b[0m \u001b[0mself\u001b[0m\u001b[1;33m.\u001b[0m\u001b[0m_maximum\u001b[0m\u001b[1;33m,\u001b[0m \u001b[0mmultiplier\u001b[0m\u001b[1;33m=\u001b[0m\u001b[0mself\u001b[0m\u001b[1;33m.\u001b[0m\u001b[0m_multiplier\u001b[0m\u001b[1;33m\u001b[0m\u001b[1;33m\u001b[0m\u001b[0m\n\u001b[0;32m    284\u001b[0m             )\n\u001b[1;32m--> 285\u001b[1;33m             return retry_target(\n\u001b[0m\u001b[0;32m    286\u001b[0m                 \u001b[0mtarget\u001b[0m\u001b[1;33m,\u001b[0m\u001b[1;33m\u001b[0m\u001b[1;33m\u001b[0m\u001b[0m\n\u001b[0;32m    287\u001b[0m                 \u001b[0mself\u001b[0m\u001b[1;33m.\u001b[0m\u001b[0m_predicate\u001b[0m\u001b[1;33m,\u001b[0m\u001b[1;33m\u001b[0m\u001b[1;33m\u001b[0m\u001b[0m\n",
      "\u001b[1;32m~\\.conda\\envs\\o_k\\lib\\site-packages\\google\\api_core\\retry.py\u001b[0m in \u001b[0;36mretry_target\u001b[1;34m(target, predicate, sleep_generator, deadline, on_error)\u001b[0m\n\u001b[0;32m    186\u001b[0m     \u001b[1;32mfor\u001b[0m \u001b[0msleep\u001b[0m \u001b[1;32min\u001b[0m \u001b[0msleep_generator\u001b[0m\u001b[1;33m:\u001b[0m\u001b[1;33m\u001b[0m\u001b[1;33m\u001b[0m\u001b[0m\n\u001b[0;32m    187\u001b[0m         \u001b[1;32mtry\u001b[0m\u001b[1;33m:\u001b[0m\u001b[1;33m\u001b[0m\u001b[1;33m\u001b[0m\u001b[0m\n\u001b[1;32m--> 188\u001b[1;33m             \u001b[1;32mreturn\u001b[0m \u001b[0mtarget\u001b[0m\u001b[1;33m(\u001b[0m\u001b[1;33m)\u001b[0m\u001b[1;33m\u001b[0m\u001b[1;33m\u001b[0m\u001b[0m\n\u001b[0m\u001b[0;32m    189\u001b[0m \u001b[1;33m\u001b[0m\u001b[0m\n\u001b[0;32m    190\u001b[0m         \u001b[1;31m# pylint: disable=broad-except\u001b[0m\u001b[1;33m\u001b[0m\u001b[1;33m\u001b[0m\u001b[1;33m\u001b[0m\u001b[0m\n",
      "\u001b[1;32m~\\.conda\\envs\\o_k\\lib\\site-packages\\google\\api_core\\grpc_helpers.py\u001b[0m in \u001b[0;36merror_remapped_callable\u001b[1;34m(*args, **kwargs)\u001b[0m\n\u001b[0;32m     65\u001b[0m     \u001b[1;32mdef\u001b[0m \u001b[0merror_remapped_callable\u001b[0m\u001b[1;33m(\u001b[0m\u001b[1;33m*\u001b[0m\u001b[0margs\u001b[0m\u001b[1;33m,\u001b[0m \u001b[1;33m**\u001b[0m\u001b[0mkwargs\u001b[0m\u001b[1;33m)\u001b[0m\u001b[1;33m:\u001b[0m\u001b[1;33m\u001b[0m\u001b[1;33m\u001b[0m\u001b[0m\n\u001b[0;32m     66\u001b[0m         \u001b[1;32mtry\u001b[0m\u001b[1;33m:\u001b[0m\u001b[1;33m\u001b[0m\u001b[1;33m\u001b[0m\u001b[0m\n\u001b[1;32m---> 67\u001b[1;33m             \u001b[1;32mreturn\u001b[0m \u001b[0mcallable_\u001b[0m\u001b[1;33m(\u001b[0m\u001b[1;33m*\u001b[0m\u001b[0margs\u001b[0m\u001b[1;33m,\u001b[0m \u001b[1;33m**\u001b[0m\u001b[0mkwargs\u001b[0m\u001b[1;33m)\u001b[0m\u001b[1;33m\u001b[0m\u001b[1;33m\u001b[0m\u001b[0m\n\u001b[0m\u001b[0;32m     68\u001b[0m         \u001b[1;32mexcept\u001b[0m \u001b[0mgrpc\u001b[0m\u001b[1;33m.\u001b[0m\u001b[0mRpcError\u001b[0m \u001b[1;32mas\u001b[0m \u001b[0mexc\u001b[0m\u001b[1;33m:\u001b[0m\u001b[1;33m\u001b[0m\u001b[1;33m\u001b[0m\u001b[0m\n\u001b[0;32m     69\u001b[0m             \u001b[0msix\u001b[0m\u001b[1;33m.\u001b[0m\u001b[0mraise_from\u001b[0m\u001b[1;33m(\u001b[0m\u001b[0mexceptions\u001b[0m\u001b[1;33m.\u001b[0m\u001b[0mfrom_grpc_error\u001b[0m\u001b[1;33m(\u001b[0m\u001b[0mexc\u001b[0m\u001b[1;33m)\u001b[0m\u001b[1;33m,\u001b[0m \u001b[0mexc\u001b[0m\u001b[1;33m)\u001b[0m\u001b[1;33m\u001b[0m\u001b[1;33m\u001b[0m\u001b[0m\n",
      "\u001b[1;32m~\\.conda\\envs\\o_k\\lib\\site-packages\\grpc\\_channel.py\u001b[0m in \u001b[0;36m__call__\u001b[1;34m(self, request, timeout, metadata, credentials, wait_for_ready, compression)\u001b[0m\n\u001b[0;32m    942\u001b[0m                  \u001b[0mwait_for_ready\u001b[0m\u001b[1;33m=\u001b[0m\u001b[1;32mNone\u001b[0m\u001b[1;33m,\u001b[0m\u001b[1;33m\u001b[0m\u001b[1;33m\u001b[0m\u001b[0m\n\u001b[0;32m    943\u001b[0m                  compression=None):\n\u001b[1;32m--> 944\u001b[1;33m         state, call, = self._blocking(request, timeout, metadata, credentials,\n\u001b[0m\u001b[0;32m    945\u001b[0m                                       wait_for_ready, compression)\n\u001b[0;32m    946\u001b[0m         \u001b[1;32mreturn\u001b[0m \u001b[0m_end_unary_response_blocking\u001b[0m\u001b[1;33m(\u001b[0m\u001b[0mstate\u001b[0m\u001b[1;33m,\u001b[0m \u001b[0mcall\u001b[0m\u001b[1;33m,\u001b[0m \u001b[1;32mFalse\u001b[0m\u001b[1;33m,\u001b[0m \u001b[1;32mNone\u001b[0m\u001b[1;33m)\u001b[0m\u001b[1;33m\u001b[0m\u001b[1;33m\u001b[0m\u001b[0m\n",
      "\u001b[1;32m~\\.conda\\envs\\o_k\\lib\\site-packages\\grpc\\_channel.py\u001b[0m in \u001b[0;36m_blocking\u001b[1;34m(self, request, timeout, metadata, credentials, wait_for_ready, compression)\u001b[0m\n\u001b[0;32m    931\u001b[0m                     \u001b[1;32mNone\u001b[0m\u001b[1;33m,\u001b[0m\u001b[1;33m\u001b[0m\u001b[1;33m\u001b[0m\u001b[0m\n\u001b[0;32m    932\u001b[0m                 ),), self._context)\n\u001b[1;32m--> 933\u001b[1;33m             \u001b[0mevent\u001b[0m \u001b[1;33m=\u001b[0m \u001b[0mcall\u001b[0m\u001b[1;33m.\u001b[0m\u001b[0mnext_event\u001b[0m\u001b[1;33m(\u001b[0m\u001b[1;33m)\u001b[0m\u001b[1;33m\u001b[0m\u001b[1;33m\u001b[0m\u001b[0m\n\u001b[0m\u001b[0;32m    934\u001b[0m             \u001b[0m_handle_event\u001b[0m\u001b[1;33m(\u001b[0m\u001b[0mevent\u001b[0m\u001b[1;33m,\u001b[0m \u001b[0mstate\u001b[0m\u001b[1;33m,\u001b[0m \u001b[0mself\u001b[0m\u001b[1;33m.\u001b[0m\u001b[0m_response_deserializer\u001b[0m\u001b[1;33m)\u001b[0m\u001b[1;33m\u001b[0m\u001b[1;33m\u001b[0m\u001b[0m\n\u001b[0;32m    935\u001b[0m             \u001b[1;32mreturn\u001b[0m \u001b[0mstate\u001b[0m\u001b[1;33m,\u001b[0m \u001b[0mcall\u001b[0m\u001b[1;33m\u001b[0m\u001b[1;33m\u001b[0m\u001b[0m\n",
      "\u001b[1;32msrc\\python\\grpcio\\grpc\\_cython\\_cygrpc/channel.pyx.pxi\u001b[0m in \u001b[0;36mgrpc._cython.cygrpc.SegregatedCall.next_event\u001b[1;34m()\u001b[0m\n",
      "\u001b[1;32msrc\\python\\grpcio\\grpc\\_cython\\_cygrpc/channel.pyx.pxi\u001b[0m in \u001b[0;36mgrpc._cython.cygrpc._next_call_event\u001b[1;34m()\u001b[0m\n",
      "\u001b[1;32msrc\\python\\grpcio\\grpc\\_cython\\_cygrpc/channel.pyx.pxi\u001b[0m in \u001b[0;36mgrpc._cython.cygrpc._next_call_event\u001b[1;34m()\u001b[0m\n",
      "\u001b[1;32msrc\\python\\grpcio\\grpc\\_cython\\_cygrpc/completion_queue.pyx.pxi\u001b[0m in \u001b[0;36mgrpc._cython.cygrpc._latent_event\u001b[1;34m()\u001b[0m\n",
      "\u001b[1;32msrc\\python\\grpcio\\grpc\\_cython\\_cygrpc/completion_queue.pyx.pxi\u001b[0m in \u001b[0;36mgrpc._cython.cygrpc._next\u001b[1;34m()\u001b[0m\n",
      "\u001b[1;31mKeyboardInterrupt\u001b[0m: "
     ]
    }
   ],
   "source": [
    "for key, value in routes_dict.items():\n",
    "    temp_1 = {\n",
    "        'id':value['id'],\n",
    "        'route_name':value['route_name']\n",
    "    }\n",
    "    uniqueRoutes_ref.document(value['id']).set(temp_1)\n",
    "    for via_key,via_value in value['via_route'].items():\n",
    "        temp_2 = {via_key:via_value}\n",
    "        uniqueRoutes_ref.document(value['id']).collection('Via Route(s)').document(via_key).set(temp_2)"
   ]
  },
  {
   "cell_type": "markdown",
   "id": "e9461fe5",
   "metadata": {},
   "source": [
    "# Bookings"
   ]
  },
  {
   "cell_type": "code",
   "execution_count": null,
   "id": "49e86b79",
   "metadata": {},
   "outputs": [],
   "source": [
    "bookings_ref = db.collection(u'Bookings')\n",
    "bookings_firebaseGenerator = bookings_ref.stream()\n",
    "bookings = [doc.to_dict() for doc in bookings_firebaseGenerator]"
   ]
  },
  {
   "cell_type": "code",
   "execution_count": null,
   "id": "f76e585b",
   "metadata": {
    "scrolled": false
   },
   "outputs": [],
   "source": [
    "bookings[0]"
   ]
  },
  {
   "cell_type": "markdown",
   "id": "ab6808c4",
   "metadata": {},
   "source": [
    "# Stops"
   ]
  },
  {
   "cell_type": "code",
   "execution_count": null,
   "id": "c0e96dd0",
   "metadata": {},
   "outputs": [],
   "source": [
    "stops_ref = db.collection(u'Bus Stops')\n",
    "stops_firebaseGenerator = stops_ref.stream()\n",
    "stops = [doc.to_dict() for doc in stops_firebaseGenerator]"
   ]
  },
  {
   "cell_type": "code",
   "execution_count": null,
   "id": "9e01622c",
   "metadata": {
    "scrolled": true
   },
   "outputs": [],
   "source": [
    "stops_df.loc[:10,[\"Stop Name\"]]"
   ]
  },
  {
   "cell_type": "code",
   "execution_count": null,
   "id": "c4383a22",
   "metadata": {},
   "outputs": [],
   "source": [
    "pattern = r\"([\\w]+)[ [\\w]+]?\""
   ]
  },
  {
   "cell_type": "code",
   "execution_count": null,
   "id": "84957b66",
   "metadata": {},
   "outputs": [],
   "source": [
    "bool(re.match(\"ERNAK\",stops[0][\"Stop Name\"]))"
   ]
  },
  {
   "cell_type": "markdown",
   "id": "e23ce688",
   "metadata": {},
   "source": [
    "# Bus Static Locations"
   ]
  },
  {
   "cell_type": "code",
   "execution_count": 48,
   "id": "94a6b282",
   "metadata": {},
   "outputs": [],
   "source": [
    "staticLoc_ref = db.collection(u'Bus Static Locations')\n",
    "staticLoc_firebaseGenerator = staticLoc_ref.stream()\n",
    "staticLoc = [doc.to_dict() for doc in staticLoc_firebaseGenerator]"
   ]
  },
  {
   "cell_type": "code",
   "execution_count": 49,
   "id": "b19ec39b",
   "metadata": {
    "scrolled": true
   },
   "outputs": [
    {
     "data": {
      "text/plain": [
       "{'Direction': 'DOWN',\n",
       " 'Location': <google.cloud.firestore_v1._helpers.GeoPoint at 0x1a111ecf6d0>,\n",
       " 'Latitude': '9.935224849699814',\n",
       " 'Longitude': '76.30169481075814',\n",
       " 'Bus_ID': 'Bus 0',\n",
       " 'Route_ID': '000895',\n",
       " 'count': 37,\n",
       " 'Route_Name': 'Ernakulam BS - Pala'}"
      ]
     },
     "execution_count": 49,
     "metadata": {},
     "output_type": "execute_result"
    }
   ],
   "source": [
    "staticLoc[0]"
   ]
  },
  {
   "cell_type": "code",
   "execution_count": 50,
   "id": "9d8f52d9",
   "metadata": {},
   "outputs": [],
   "source": [
    "directions = ['UP','DOWN']"
   ]
  },
  {
   "cell_type": "code",
   "execution_count": 51,
   "id": "5472df10",
   "metadata": {},
   "outputs": [
    {
     "data": {
      "text/plain": [
       "<google.cloud.firestore_v1._helpers.GeoPoint at 0x1a1121505e0>"
      ]
     },
     "execution_count": 51,
     "metadata": {},
     "output_type": "execute_result"
    }
   ],
   "source": [
    "firestore.GeoPoint('1','1')"
   ]
  },
  {
   "cell_type": "code",
   "execution_count": 52,
   "id": "fb9dd9d2",
   "metadata": {},
   "outputs": [],
   "source": [
    "busId = ['Bus '+str(x) for x in range(16)]\n",
    "direction = [directions[x] for x in np.random.randint(low = 0, high = 2,size = 16)]\n",
    "location = [\n",
    "    firestore.GeoPoint(9.935224849699814, 76.30169481075814),\n",
    "    firestore.GeoPoint(9.879083142900397, 76.3779124578617),\n",
    "    firestore.GeoPoint(9.810753207094008, 76.44795029574063),\n",
    "    firestore.GeoPoint(9.74037894176729, 76.61755172668276),\n",
    "    firestore.GeoPoint(9.992716038015864, 76.30587231478111),\n",
    "    firestore.GeoPoint(10.014692735997073, 76.31136547853633),\n",
    "    firestore.GeoPoint(10.036329876643578, 76.31376873767923),\n",
    "    firestore.GeoPoint(10.092444463411299, 76.34569775200639),\n",
    "    firestore.GeoPoint(9.322197530861805, 76.63164818968484),\n",
    "    firestore.GeoPoint(9.332708618220876, 76.66833815329281),\n",
    "    firestore.GeoPoint(9.311686126956236, 76.72430302865796),\n",
    "    firestore.GeoPoint(9.274142819888679, 76.76572718111854),\n",
    "    firestore.GeoPoint(10.449444584801288, 76.26452260181959),\n",
    "    firestore.GeoPoint(10.275179509451979, 76.35241322190298),\n",
    "    firestore.GeoPoint(10.098114272912156, 76.48974231578322),\n",
    "    firestore.GeoPoint(9.966941978331834, 76.60509875464265)    \n",
    "]\n",
    "routeId = ['000895']*4+['004139']*4+['004600']*4+['000086']*4\n",
    "count = [int(x) for x in np.random.randint(low = 20, high = 65,size=16)]\n",
    "RouteName = ['Ernakulam - Pala']*4+['Aluva - Ernakulam']*4+['Chengannur - Pathanamthitta']*4+['Thrissur - Thodupuzha']*4"
   ]
  },
  {
   "cell_type": "code",
   "execution_count": 53,
   "id": "ea66689c",
   "metadata": {},
   "outputs": [],
   "source": [
    "latitude = [str(x.latitude) for x in location]\n",
    "longitude = [str(x.longitude) for x in location]"
   ]
  },
  {
   "cell_type": "code",
   "execution_count": 54,
   "id": "90b7ec5f",
   "metadata": {},
   "outputs": [],
   "source": [
    "data = [\n",
    "  {\n",
    "      'Bus_ID': busId[0],\n",
    "      'Direction': direction[0], \n",
    "      'Latitude': latitude[0],\n",
    "      'Location': location[0],\n",
    "      'Longitude': longitude[0],\n",
    "      'Route_ID': routeId[0],\n",
    "      'count': count[0],\n",
    "      'Route_Name': RouteName[0]\n",
    "  },\n",
    "  {\n",
    "      'Bus_ID': busId[1],\n",
    "      'Direction': direction[1], \n",
    "      'Latitude': latitude[1],\n",
    "      'Location': location[1],\n",
    "      'Longitude': longitude[1],\n",
    "      'Route_ID': routeId[1],\n",
    "      'count': count[1],\n",
    "      'Route_Name': RouteName[1]\n",
    "  },\n",
    "  {\n",
    "      'Bus_ID': busId[2],\n",
    "      'Direction': direction[2], \n",
    "      'Latitude': latitude[2],\n",
    "      'Location': location[2],\n",
    "      'Longitude': longitude[2],\n",
    "      'Route_ID': routeId[2],\n",
    "      'count': count[2],\n",
    "      'Route_Name': RouteName[2]\n",
    "  },\n",
    "  {\n",
    "      'Bus_ID': busId[3],\n",
    "      'Direction': direction[3], \n",
    "      'Latitude': latitude[3],\n",
    "      'Location': location[3],\n",
    "      'Longitude': longitude[3],\n",
    "      'Route_ID': routeId[3],\n",
    "      'count': count[3],\n",
    "      'Route_Name': RouteName[3]\n",
    "  },\n",
    "  {\n",
    "      'Bus_ID': busId[4],\n",
    "      'Direction': direction[4], \n",
    "      'Latitude': latitude[4],\n",
    "      'Location': location[4],\n",
    "      'Longitude': longitude[4],\n",
    "      'Route_ID': routeId[4],\n",
    "      'count': count[4],\n",
    "      'Route_Name': RouteName[4]\n",
    "  },\n",
    "  {\n",
    "      'Bus_ID': busId[5],\n",
    "      'Direction': direction[5], \n",
    "      'Latitude': latitude[5],\n",
    "      'Location': location[5],\n",
    "      'Longitude': longitude[5],\n",
    "      'Route_ID': routeId[5],\n",
    "      'count': count[5],\n",
    "      'Route_Name': RouteName[5]\n",
    "  },\n",
    "  {\n",
    "      'Bus_ID': busId[6],\n",
    "      'Direction': direction[6], \n",
    "      'Latitude': latitude[6],\n",
    "      'Location': location[6],\n",
    "      'Longitude': longitude[6],\n",
    "      'Route_ID': routeId[6],\n",
    "      'count': count[6],\n",
    "      'Route_Name': RouteName\n",
    "  },\n",
    "  {\n",
    "      'Bus_ID': busId[7],\n",
    "      'Direction': direction[7], \n",
    "      'Latitude': latitude[7],\n",
    "      'Location': location[7],\n",
    "      'Longitude': longitude[7],\n",
    "      'Route_ID': routeId[7],\n",
    "      'count': count[7],\n",
    "      'Route_Name': RouteName[7]\n",
    "  },\n",
    "  {\n",
    "      'Bus_ID': busId[8],\n",
    "      'Direction': direction[8], \n",
    "      'Latitude': latitude[8],\n",
    "      'Location': location[8],\n",
    "      'Longitude': longitude[8],\n",
    "      'Route_ID': routeId[8],\n",
    "      'count': count[8],\n",
    "      'Route_Name': RouteName[8]\n",
    "  },\n",
    "  {\n",
    "      'Bus_ID': busId[9],\n",
    "      'Direction': direction[9], \n",
    "      'Latitude': latitude[9],\n",
    "      'Location': location[9],\n",
    "      'Longitude': longitude[9],\n",
    "      'Route_ID': routeId[9],\n",
    "      'count': count[9],\n",
    "      'Route_Name': RouteName[9]\n",
    "  },\n",
    "  {\n",
    "      'Bus_ID': busId[10],\n",
    "      'Direction': direction[10], \n",
    "      'Latitude': latitude[10],\n",
    "      'Location': location[10],\n",
    "      'Longitude': longitude[10],\n",
    "      'Route_ID': routeId[10],\n",
    "      'count': count[10],\n",
    "      'Route_Name': RouteName[10]\n",
    "  },\n",
    "  {\n",
    "      'Bus_ID': busId[11],\n",
    "      'Direction': direction[11], \n",
    "      'Latitude': latitude[11],\n",
    "      'Location': location[11],\n",
    "      'Longitude': longitude[11],\n",
    "      'Route_ID': routeId[11],\n",
    "      'count': count[11],\n",
    "      'Route_Name': RouteName[11]\n",
    "  },\n",
    "  {\n",
    "      'Bus_ID': busId[12],\n",
    "      'Direction': direction[12], \n",
    "      'Latitude': latitude[12],\n",
    "      'Location': location[12],\n",
    "      'Longitude': longitude[12],\n",
    "      'Route_ID': routeId[12],\n",
    "      'count': count[12],\n",
    "      'Route_Name': RouteName[12]\n",
    "  },\n",
    "  {\n",
    "      'Bus_ID': busId[13],\n",
    "      'Direction': direction[13], \n",
    "      'Latitude': latitude[13],\n",
    "      'Location': location[13],\n",
    "      'Longitude': longitude[13],\n",
    "      'Route_ID': routeId[13],\n",
    "      'count': count[13],\n",
    "      'Route_Name': RouteName[13]\n",
    "  },\n",
    "  {\n",
    "      'Bus_ID': busId[14],\n",
    "      'Direction': direction[14], \n",
    "      'Latitude': latitude[14],\n",
    "      'Location': location[14],\n",
    "      'Longitude': longitude[14],\n",
    "      'Route_ID': routeId[14],\n",
    "      'count': count[14],\n",
    "      'Route_Name': RouteName[14]\n",
    "  },\n",
    "  {\n",
    "      'Bus_ID': busId[15],\n",
    "      'Direction': direction[15], \n",
    "      'Latitude': latitude[15],\n",
    "      'Location': location[15],\n",
    "      'Longitude': longitude[15],\n",
    "      'Route_ID': routeId[15],\n",
    "      'count': count[15],\n",
    "      'Route_Name': RouteName[15]\n",
    "  }\n",
    "]\n"
   ]
  },
  {
   "cell_type": "code",
   "execution_count": 55,
   "id": "b3a17356",
   "metadata": {},
   "outputs": [],
   "source": [
    "for _id in range(16):\n",
    "    staticLoc_ref.document('Bus '+str(_id)).set(data[_id])"
   ]
  },
  {
   "cell_type": "code",
   "execution_count": null,
   "id": "bd627357",
   "metadata": {},
   "outputs": [],
   "source": []
  },
  {
   "cell_type": "code",
   "execution_count": null,
   "id": "35618b57",
   "metadata": {},
   "outputs": [],
   "source": []
  }
 ],
 "metadata": {
  "kernelspec": {
   "display_name": "Python 3",
   "language": "python",
   "name": "python3"
  },
  "language_info": {
   "codemirror_mode": {
    "name": "ipython",
    "version": 3
   },
   "file_extension": ".py",
   "mimetype": "text/x-python",
   "name": "python",
   "nbconvert_exporter": "python",
   "pygments_lexer": "ipython3",
   "version": "3.9.4"
  }
 },
 "nbformat": 4,
 "nbformat_minor": 5
}
