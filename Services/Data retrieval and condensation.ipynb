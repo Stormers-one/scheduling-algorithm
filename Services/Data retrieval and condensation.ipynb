{
 "cells": [
  {
   "cell_type": "code",
   "execution_count": 1,
   "id": "69f17753",
   "metadata": {},
   "outputs": [],
   "source": [
    "import firebase_admin\n",
    "from firebase_admin import credentials\n",
    "from firebase_admin import firestore"
   ]
  },
  {
   "cell_type": "code",
   "execution_count": 2,
   "id": "22098aba",
   "metadata": {},
   "outputs": [],
   "source": [
    "import re\n",
    "import base64\n",
    "import json\n",
    "import numpy as np\n",
    "import pandas as pd"
   ]
  },
  {
   "cell_type": "code",
   "execution_count": 3,
   "id": "cfb1142b",
   "metadata": {},
   "outputs": [],
   "source": [
    "# Use a service account\n",
    "cred = credentials.Certificate('key/oduFireKey.json')\n",
    "firebase_admin.initialize_app(cred)\n",
    "\n",
    "db = firestore.client()"
   ]
  },
  {
   "cell_type": "markdown",
   "id": "39295e4f",
   "metadata": {},
   "source": [
    "# Routes"
   ]
  },
  {
   "cell_type": "code",
   "execution_count": 4,
   "id": "d8c9df9c",
   "metadata": {},
   "outputs": [],
   "source": [
    "routes_ref = db.collection(u'Routes')\n",
    "routes_firebaseGenerator = routes_ref.stream()\n",
    "routes = [doc.to_dict() for doc in routes_firebaseGenerator]"
   ]
  },
  {
   "cell_type": "code",
   "execution_count": 5,
   "id": "cac74c0b",
   "metadata": {
    "scrolled": true
   },
   "outputs": [
    {
     "data": {
      "text/plain": [
       "{'from_location': 'Thodupuzha',\n",
       " 'to_location': 'Moolamattom',\n",
       " 'bus_code': 10000,\n",
       " 'via_route': 'Muttom',\n",
       " 'bus_type': 'Ordinary',\n",
       " 'route_name': 'Thodupuzha - Moolamattom'}"
      ]
     },
     "execution_count": 5,
     "metadata": {},
     "output_type": "execute_result"
    }
   ],
   "source": [
    "routes[0]"
   ]
  },
  {
   "cell_type": "code",
   "execution_count": 30,
   "id": "1a3f8640",
   "metadata": {},
   "outputs": [],
   "source": [
    "route_id = 1000000\n",
    "route_dict = {}\n",
    "_id = 'a'\n",
    "for route in routes:\n",
    "    routeName = [route['from_location'],' - ',route['to_location']]\n",
    "    opt_1 = ''.join(routeName)\n",
    "    opt_1 = opt_1 # + ', via_route: '+ route['via_route']\n",
    "    opt_2 = ''.join(routeName[::-1]) \n",
    "    opt_2 = opt_2 # + ', via_route: '+ route['via_route']\n",
    "    opt_1, opt_2 = opt_1.strip(), opt_2.strip()\n",
    "    flag_1, flag_2 = 0, 0\n",
    "    if(opt_1 in route_dict):\n",
    "        flag_1 = 1\n",
    "    if(opt_2 in route_dict):\n",
    "        flag_2 = 1\n",
    "    if(flag_1 == 0 and flag_2 == 0):\n",
    "        if(len(route['via_route'])!=0):\n",
    "            route_dict[opt_1] = {\n",
    "                'id':str(route_id)[1:],\n",
    "                'route_name':route['route_name'],\n",
    "                'via':1,\n",
    "                'via_route':{route['via_route']:_id}\n",
    "            }\n",
    "        else:\n",
    "            route_dict[opt_1] = {\n",
    "                'id':str(route_id)[1:],\n",
    "                'route_name':route['route_name'],\n",
    "                'via':0,\n",
    "                'via_route':{}\n",
    "            }\n",
    "        route_id+=1\n",
    "    else:\n",
    "        if(flag_1 == 1):\n",
    "            if(route['via_route'] not in route_dict[opt_1]['via_route']):\n",
    "                route_dict[opt_1]['via_route'][route['via_route']] = chr(ord(_id) + route_dict[opt_1]['via'])\n",
    "                route_dict[opt_1]['via']+=1\n",
    "        else:\n",
    "            if(route['via_route'] not in route_dict[opt_2]['via_route']):\n",
    "                route_dict[opt_2]['via_route'][route['via_route']] = chr(ord(_id) + route_dict[opt_2]['via'])\n",
    "                route_dict[opt_2]['via']+=1"
   ]
  },
  {
   "cell_type": "code",
   "execution_count": 31,
   "id": "319586ca",
   "metadata": {
    "scrolled": true
   },
   "outputs": [
    {
     "data": {
      "text/plain": [
       "6105"
      ]
     },
     "execution_count": 31,
     "metadata": {},
     "output_type": "execute_result"
    }
   ],
   "source": [
    "len(route_dict)"
   ]
  },
  {
   "cell_type": "code",
   "execution_count": 32,
   "id": "a537ae90",
   "metadata": {
    "scrolled": true
   },
   "outputs": [
    {
     "data": {
      "text/plain": [
       "[{'a': ['Muttom'],\n",
       "  'b': ['Muttom', 'Kakkomb'],\n",
       "  'c': ['Velliyamattom', 'Poochapra'],\n",
       "  'd': ['Kakkomb'],\n",
       "  'e': ['Velliyavattom', 'Guruthikalam'],\n",
       "  'f': ['Kanjar', 'Muttom'],\n",
       "  'g': ['Muttom', 'Kanjar']},\n",
       " {'a': ['Moolamattom', 'Cheruthoni', 'Karimban', 'Murikkassery'],\n",
       "  'b': ['Murikkassery', 'Cheruthoni', 'Moolamattom'],\n",
       "  'c': ['Murikkassery', 'Cheruthoni', 'Uppukunnu'],\n",
       "  'd': ['Uppukunnu', 'Cheruthoni', 'Karimban', 'Murikkassery']},\n",
       " {'a': ['Murikkassery', 'Cheruthoni', 'Moolamattom', 'Thodupuzha', 'Pala']}]"
      ]
     },
     "execution_count": 32,
     "metadata": {},
     "output_type": "execute_result"
    }
   ],
   "source": [
    "routes_dict = {value['id']:value for key,value in route_dict.items()}\n",
    "via_routes = [{y:x for x,y in value['via_route'].items()} for key,value in routes_dict.items()]\n",
    "via_routes = [{key:[x.strip() for x in value.split(',')] for key,value in via_r.items()} for via_r in via_routes]\n",
    "i = 0\n",
    "for key, value in routes_dict.items():\n",
    "    routes_dict[key]['via_route'] = via_routes[i]\n",
    "    i+=1\n",
    "via_routes[:3]"
   ]
  },
  {
   "cell_type": "code",
   "execution_count": 33,
   "id": "e3368c87",
   "metadata": {},
   "outputs": [
    {
     "data": {
      "text/plain": [
       "[{'id': '000000',\n",
       "  'route_name': 'Thodupuzha - Moolamattom',\n",
       "  'via': 7,\n",
       "  'via_route': {'a': ['Muttom'],\n",
       "   'b': ['Muttom', 'Kakkomb'],\n",
       "   'c': ['Velliyamattom', 'Poochapra'],\n",
       "   'd': ['Kakkomb'],\n",
       "   'e': ['Velliyavattom', 'Guruthikalam'],\n",
       "   'f': ['Kanjar', 'Muttom'],\n",
       "   'g': ['Muttom', 'Kanjar']}},\n",
       " {'id': '000001',\n",
       "  'route_name': 'Thodupuzha - Thopramkudy',\n",
       "  'via': 4,\n",
       "  'via_route': {'a': ['Moolamattom', 'Cheruthoni', 'Karimban', 'Murikkassery'],\n",
       "   'b': ['Murikkassery', 'Cheruthoni', 'Moolamattom'],\n",
       "   'c': ['Murikkassery', 'Cheruthoni', 'Uppukunnu'],\n",
       "   'd': ['Uppukunnu', 'Cheruthoni', 'Karimban', 'Murikkassery']}},\n",
       " {'id': '000002',\n",
       "  'route_name': 'Thopramkudy - Kottayam',\n",
       "  'via': 1,\n",
       "  'via_route': {'a': ['Murikkassery',\n",
       "    'Cheruthoni',\n",
       "    'Moolamattom',\n",
       "    'Thodupuzha',\n",
       "    'Pala']}}]"
      ]
     },
     "execution_count": 33,
     "metadata": {},
     "output_type": "execute_result"
    }
   ],
   "source": [
    "[x for x in routes_dict.values()][:3]"
   ]
  },
  {
   "cell_type": "code",
   "execution_count": 37,
   "id": "09ee674b",
   "metadata": {},
   "outputs": [
    {
     "data": {
      "text/plain": [
       "{'id': '000536',\n",
       " 'route_name': 'Thrissur - Piravom',\n",
       " 'via': 1,\n",
       " 'via_route': {'a': ['Chalakudy', 'Ernakulam', 'Chottanikara']}}"
      ]
     },
     "execution_count": 37,
     "metadata": {},
     "output_type": "execute_result"
    }
   ],
   "source": [
    "routes_dict['000536']"
   ]
  },
  {
   "cell_type": "code",
   "execution_count": 34,
   "id": "6da01211",
   "metadata": {},
   "outputs": [],
   "source": [
    "with open('routes.txt', 'w') as routes_file:\n",
    "     routes_file.write(json.dumps(routes_dict))"
   ]
  },
  {
   "cell_type": "markdown",
   "id": "b5317a0c",
   "metadata": {},
   "source": [
    "### Upload collection to firebase collection \n",
    "#### \"Unique Routes\" Collection"
   ]
  },
  {
   "cell_type": "code",
   "execution_count": 65,
   "id": "9325a4d6",
   "metadata": {},
   "outputs": [],
   "source": [
    "uniqueRoutes_ref = db.collection(u'Unique Routes')"
   ]
  },
  {
   "cell_type": "code",
   "execution_count": null,
   "id": "81965a06",
   "metadata": {},
   "outputs": [],
   "source": [
    "transaction = db.transaction()\n",
    "uniqueRoutes_ref = db.collection(u'Unique Routes')\n",
    "\n",
    "@firestore.transactional\n",
    "def update_in_transaction(transaction, ref):\n",
    "#     snapshot = ref.get(transaction=transaction)\n",
    "    temp_1 = {\n",
    "        'id':value['id'],\n",
    "        'route_name':value['route_name']\n",
    "    }\n",
    "    transaction.set(ref, )\n",
    "\n",
    "update_in_transaction(transaction, uniqueRoutes_ref)"
   ]
  },
  {
   "cell_type": "code",
   "execution_count": 67,
   "id": "6e207bbd",
   "metadata": {},
   "outputs": [],
   "source": [
    "for key, value in routes_dict.items():\n",
    "    temp_1 = {\n",
    "        'id':value['id'],\n",
    "        'route_name':value['route_name']\n",
    "    }\n",
    "    uniqueRoutes_ref.document(value['id']).set(temp_1)\n",
    "    for via_key,via_value in value['via_route'].items():\n",
    "        temp_2 = {via_key:via_value}\n",
    "        uniqueRoutes_ref.document(value['id']).collection('Via Route(s)').document(via_key).set(temp_2)"
   ]
  },
  {
   "cell_type": "markdown",
   "id": "f2237ee9",
   "metadata": {},
   "source": [
    "# Bookings"
   ]
  },
  {
   "cell_type": "code",
   "execution_count": null,
   "id": "6ef834f7",
   "metadata": {},
   "outputs": [],
   "source": [
    "bookings_ref = db.collection(u'Bookings')\n",
    "bookings_firebaseGenerator = bookings_ref.stream()\n",
    "bookings = [doc.to_dict() for doc in bookings_firebaseGenerator]"
   ]
  },
  {
   "cell_type": "code",
   "execution_count": null,
   "id": "f76e585b",
   "metadata": {
    "scrolled": false
   },
   "outputs": [],
   "source": [
    "bookings[0]"
   ]
  },
  {
   "cell_type": "markdown",
   "id": "50b19536",
   "metadata": {},
   "source": [
    "# Stops"
   ]
  },
  {
   "cell_type": "code",
   "execution_count": null,
   "id": "ec6e5ff0",
   "metadata": {},
   "outputs": [],
   "source": [
    "stops_ref = db.collection(u'Bus Stops')\n",
    "stops_firebaseGenerator = stops_ref.stream()\n",
    "stops = [doc.to_dict() for doc in stops_firebaseGenerator]"
   ]
  },
  {
   "cell_type": "code",
   "execution_count": null,
   "id": "9e01622c",
   "metadata": {
    "scrolled": true
   },
   "outputs": [],
   "source": [
    "stops_df.loc[:10,[\"Stop Name\"]]"
   ]
  },
  {
   "cell_type": "code",
   "execution_count": null,
   "id": "c4383a22",
   "metadata": {},
   "outputs": [],
   "source": [
    "pattern = r\"([\\w]+)[ [\\w]+]?\""
   ]
  },
  {
   "cell_type": "code",
   "execution_count": null,
   "id": "84957b66",
   "metadata": {},
   "outputs": [],
   "source": [
    "bool(re.match(\"ERNAK\",stops[0][\"Stop Name\"]))"
   ]
  },
  {
   "cell_type": "markdown",
   "id": "b78e6276",
   "metadata": {},
   "source": [
    "# Bus Static Locations"
   ]
  },
  {
   "cell_type": "code",
   "execution_count": 48,
   "id": "2762298c",
   "metadata": {},
   "outputs": [],
   "source": [
    "staticLoc_ref = db.collection(u'Bus Static Locations')\n",
    "staticLoc_firebaseGenerator = staticLoc_ref.stream()\n",
    "staticLoc = [doc.to_dict() for doc in staticLoc_firebaseGenerator]"
   ]
  },
  {
   "cell_type": "code",
   "execution_count": 49,
   "id": "b19ec39b",
   "metadata": {
    "scrolled": true
   },
   "outputs": [
    {
     "data": {
      "text/plain": [
       "{'Direction': 'DOWN',\n",
       " 'Location': <google.cloud.firestore_v1._helpers.GeoPoint at 0x1a111ecf6d0>,\n",
       " 'Latitude': '9.935224849699814',\n",
       " 'Longitude': '76.30169481075814',\n",
       " 'Bus_ID': 'Bus 0',\n",
       " 'Route_ID': '000895',\n",
       " 'count': 37,\n",
       " 'Route_Name': 'Ernakulam BS - Pala'}"
      ]
     },
     "execution_count": 49,
     "metadata": {},
     "output_type": "execute_result"
    }
   ],
   "source": [
    "staticLoc[0]"
   ]
  },
  {
   "cell_type": "code",
   "execution_count": 50,
   "id": "3455bcdf",
   "metadata": {},
   "outputs": [],
   "source": [
    "directions = ['UP','DOWN']"
   ]
  },
  {
   "cell_type": "code",
   "execution_count": 51,
   "id": "7cdde4c8",
   "metadata": {},
   "outputs": [
    {
     "data": {
      "text/plain": [
       "<google.cloud.firestore_v1._helpers.GeoPoint at 0x1a1121505e0>"
      ]
     },
     "execution_count": 51,
     "metadata": {},
     "output_type": "execute_result"
    }
   ],
   "source": [
    "firestore.GeoPoint('1','1')"
   ]
  },
  {
   "cell_type": "code",
   "execution_count": 52,
   "id": "db42b5d9",
   "metadata": {},
   "outputs": [],
   "source": [
    "busId = ['Bus '+str(x) for x in range(16)]\n",
    "direction = [directions[x] for x in np.random.randint(low = 0, high = 2,size = 16)]\n",
    "location = [\n",
    "    firestore.GeoPoint(9.935224849699814, 76.30169481075814),\n",
    "    firestore.GeoPoint(9.879083142900397, 76.3779124578617),\n",
    "    firestore.GeoPoint(9.810753207094008, 76.44795029574063),\n",
    "    firestore.GeoPoint(9.74037894176729, 76.61755172668276),\n",
    "    firestore.GeoPoint(9.992716038015864, 76.30587231478111),\n",
    "    firestore.GeoPoint(10.014692735997073, 76.31136547853633),\n",
    "    firestore.GeoPoint(10.036329876643578, 76.31376873767923),\n",
    "    firestore.GeoPoint(10.092444463411299, 76.34569775200639),\n",
    "    firestore.GeoPoint(9.322197530861805, 76.63164818968484),\n",
    "    firestore.GeoPoint(9.332708618220876, 76.66833815329281),\n",
    "    firestore.GeoPoint(9.311686126956236, 76.72430302865796),\n",
    "    firestore.GeoPoint(9.274142819888679, 76.76572718111854),\n",
    "    firestore.GeoPoint(10.449444584801288, 76.26452260181959),\n",
    "    firestore.GeoPoint(10.275179509451979, 76.35241322190298),\n",
    "    firestore.GeoPoint(10.098114272912156, 76.48974231578322),\n",
    "    firestore.GeoPoint(9.966941978331834, 76.60509875464265)    \n",
    "]\n",
    "routeId = ['000895']*4+['004139']*4+['004600']*4+['000086']*4\n",
    "count = [int(x) for x in np.random.randint(low = 20, high = 65,size=16)]\n",
    "RouteName = ['Ernakulam - Pala']*4+['Aluva - Ernakulam']*4+['Chengannur - Pathanamthitta']*4+['Thrissur - Thodupuzha']*4"
   ]
  },
  {
   "cell_type": "code",
   "execution_count": 53,
   "id": "e1cf4887",
   "metadata": {},
   "outputs": [],
   "source": [
    "latitude = [str(x.latitude) for x in location]\n",
    "longitude = [str(x.longitude) for x in location]"
   ]
  },
  {
   "cell_type": "code",
   "execution_count": 54,
   "id": "823c2017",
   "metadata": {},
   "outputs": [],
   "source": [
    "data = [\n",
    "  {\n",
    "      'Bus_ID': busId[0],\n",
    "      'Direction': direction[0], \n",
    "      'Latitude': latitude[0],\n",
    "      'Location': location[0],\n",
    "      'Longitude': longitude[0],\n",
    "      'Route_ID': routeId[0],\n",
    "      'count': count[0],\n",
    "      'Route_Name': RouteName[0]\n",
    "  },\n",
    "  {\n",
    "      'Bus_ID': busId[1],\n",
    "      'Direction': direction[1], \n",
    "      'Latitude': latitude[1],\n",
    "      'Location': location[1],\n",
    "      'Longitude': longitude[1],\n",
    "      'Route_ID': routeId[1],\n",
    "      'count': count[1],\n",
    "      'Route_Name': RouteName[1]\n",
    "  },\n",
    "  {\n",
    "      'Bus_ID': busId[2],\n",
    "      'Direction': direction[2], \n",
    "      'Latitude': latitude[2],\n",
    "      'Location': location[2],\n",
    "      'Longitude': longitude[2],\n",
    "      'Route_ID': routeId[2],\n",
    "      'count': count[2],\n",
    "      'Route_Name': RouteName[2]\n",
    "  },\n",
    "  {\n",
    "      'Bus_ID': busId[3],\n",
    "      'Direction': direction[3], \n",
    "      'Latitude': latitude[3],\n",
    "      'Location': location[3],\n",
    "      'Longitude': longitude[3],\n",
    "      'Route_ID': routeId[3],\n",
    "      'count': count[3],\n",
    "      'Route_Name': RouteName[3]\n",
    "  },\n",
    "  {\n",
    "      'Bus_ID': busId[4],\n",
    "      'Direction': direction[4], \n",
    "      'Latitude': latitude[4],\n",
    "      'Location': location[4],\n",
    "      'Longitude': longitude[4],\n",
    "      'Route_ID': routeId[4],\n",
    "      'count': count[4],\n",
    "      'Route_Name': RouteName[4]\n",
    "  },\n",
    "  {\n",
    "      'Bus_ID': busId[5],\n",
    "      'Direction': direction[5], \n",
    "      'Latitude': latitude[5],\n",
    "      'Location': location[5],\n",
    "      'Longitude': longitude[5],\n",
    "      'Route_ID': routeId[5],\n",
    "      'count': count[5],\n",
    "      'Route_Name': RouteName[5]\n",
    "  },\n",
    "  {\n",
    "      'Bus_ID': busId[6],\n",
    "      'Direction': direction[6], \n",
    "      'Latitude': latitude[6],\n",
    "      'Location': location[6],\n",
    "      'Longitude': longitude[6],\n",
    "      'Route_ID': routeId[6],\n",
    "      'count': count[6],\n",
    "      'Route_Name': RouteName\n",
    "  },\n",
    "  {\n",
    "      'Bus_ID': busId[7],\n",
    "      'Direction': direction[7], \n",
    "      'Latitude': latitude[7],\n",
    "      'Location': location[7],\n",
    "      'Longitude': longitude[7],\n",
    "      'Route_ID': routeId[7],\n",
    "      'count': count[7],\n",
    "      'Route_Name': RouteName[7]\n",
    "  },\n",
    "  {\n",
    "      'Bus_ID': busId[8],\n",
    "      'Direction': direction[8], \n",
    "      'Latitude': latitude[8],\n",
    "      'Location': location[8],\n",
    "      'Longitude': longitude[8],\n",
    "      'Route_ID': routeId[8],\n",
    "      'count': count[8],\n",
    "      'Route_Name': RouteName[8]\n",
    "  },\n",
    "  {\n",
    "      'Bus_ID': busId[9],\n",
    "      'Direction': direction[9], \n",
    "      'Latitude': latitude[9],\n",
    "      'Location': location[9],\n",
    "      'Longitude': longitude[9],\n",
    "      'Route_ID': routeId[9],\n",
    "      'count': count[9],\n",
    "      'Route_Name': RouteName[9]\n",
    "  },\n",
    "  {\n",
    "      'Bus_ID': busId[10],\n",
    "      'Direction': direction[10], \n",
    "      'Latitude': latitude[10],\n",
    "      'Location': location[10],\n",
    "      'Longitude': longitude[10],\n",
    "      'Route_ID': routeId[10],\n",
    "      'count': count[10],\n",
    "      'Route_Name': RouteName[10]\n",
    "  },\n",
    "  {\n",
    "      'Bus_ID': busId[11],\n",
    "      'Direction': direction[11], \n",
    "      'Latitude': latitude[11],\n",
    "      'Location': location[11],\n",
    "      'Longitude': longitude[11],\n",
    "      'Route_ID': routeId[11],\n",
    "      'count': count[11],\n",
    "      'Route_Name': RouteName[11]\n",
    "  },\n",
    "  {\n",
    "      'Bus_ID': busId[12],\n",
    "      'Direction': direction[12], \n",
    "      'Latitude': latitude[12],\n",
    "      'Location': location[12],\n",
    "      'Longitude': longitude[12],\n",
    "      'Route_ID': routeId[12],\n",
    "      'count': count[12],\n",
    "      'Route_Name': RouteName[12]\n",
    "  },\n",
    "  {\n",
    "      'Bus_ID': busId[13],\n",
    "      'Direction': direction[13], \n",
    "      'Latitude': latitude[13],\n",
    "      'Location': location[13],\n",
    "      'Longitude': longitude[13],\n",
    "      'Route_ID': routeId[13],\n",
    "      'count': count[13],\n",
    "      'Route_Name': RouteName[13]\n",
    "  },\n",
    "  {\n",
    "      'Bus_ID': busId[14],\n",
    "      'Direction': direction[14], \n",
    "      'Latitude': latitude[14],\n",
    "      'Location': location[14],\n",
    "      'Longitude': longitude[14],\n",
    "      'Route_ID': routeId[14],\n",
    "      'count': count[14],\n",
    "      'Route_Name': RouteName[14]\n",
    "  },\n",
    "  {\n",
    "      'Bus_ID': busId[15],\n",
    "      'Direction': direction[15], \n",
    "      'Latitude': latitude[15],\n",
    "      'Location': location[15],\n",
    "      'Longitude': longitude[15],\n",
    "      'Route_ID': routeId[15],\n",
    "      'count': count[15],\n",
    "      'Route_Name': RouteName[15]\n",
    "  }\n",
    "]\n"
   ]
  },
  {
   "cell_type": "code",
   "execution_count": 55,
   "id": "b3a17356",
   "metadata": {},
   "outputs": [],
   "source": [
    "for _id in range(16):\n",
    "    staticLoc_ref.document('Bus '+str(_id)).set(data[_id])"
   ]
  },
  {
   "cell_type": "markdown",
   "id": "ed55a508",
   "metadata": {},
   "source": [
    "# Schedule Suggest"
   ]
  },
  {
   "cell_type": "code",
   "execution_count": 3,
   "id": "6ec50442",
   "metadata": {},
   "outputs": [],
   "source": [
    "data = pd.DataFrame(\n",
    "    {'Route':\n",
    "     {0: 'ponkunnam kozhikkode', \n",
    "      1: 'muvattupuzha kumily', \n",
    "      2: 'kumily ernakulam', \n",
    "      3: 'kollam oachira', \n",
    "      4: 'oachira kollam'\n",
    "     }, \n",
    "     'Exceed_Diminish':\n",
    "     {0: 1, 1: 0, 2: 0, 3: 0, 4: 0},\n",
    "     'Count_exceeded_diminished':\n",
    "     {0: 21.0, 1: 518.0, 2: 2638.0, 3: 758.0, 4: 1879.0}\n",
    "    }\n",
    ")"
   ]
  },
  {
   "cell_type": "code",
   "execution_count": 10,
   "id": "9d758f31",
   "metadata": {},
   "outputs": [],
   "source": [
    "def standardizeRoutes(row):\n",
    "    datList = row.split(' ')\n",
    "    datList[0] = datList[0][0].upper()+datList[0][1:].lower()\n",
    "    datList[1] = datList[1][0].upper()+datList[1][1:].lower()\n",
    "    return \" - \".join(datList)"
   ]
  },
  {
   "cell_type": "code",
   "execution_count": 11,
   "id": "e4588e64",
   "metadata": {},
   "outputs": [
    {
     "data": {
      "text/plain": [
       "0    Ponkunnam - Kozhikkode\n",
       "1     Muvattupuzha - Kumily\n",
       "2        Kumily - Ernakulam\n",
       "3          Kollam - Oachira\n",
       "4          Oachira - Kollam\n",
       "Name: Route, dtype: object"
      ]
     },
     "execution_count": 11,
     "metadata": {},
     "output_type": "execute_result"
    }
   ],
   "source": [
    "data = data.rename({'Exceed_Diminish':'status','Count_exceeded_diminished':'count'},axis=1)\n",
    "data['status'] = data['status'].replace({1:'Surplus',0:'Shortage'})\n",
    "data['Route'] = data['Route'].apply(standardizeRoutes)\n",
    "# data"
   ]
  },
  {
   "cell_type": "code",
   "execution_count": 9,
   "id": "9e8ed840",
   "metadata": {},
   "outputs": [],
   "source": [
    "suggestSchd_ref = db.collection(u'Schedule Suggest')"
   ]
  },
  {
   "cell_type": "code",
   "execution_count": 10,
   "id": "78b44f32",
   "metadata": {},
   "outputs": [],
   "source": [
    "def upload_collection(data):\n",
    "    for i in range(data.shape[0]):\n",
    "        tmp = {\n",
    "            'routeName':data.loc[i,'Route'],\n",
    "            'status':data.loc[i,'status'],\n",
    "            'count':data.loc[i,'count']\n",
    "        }\n",
    "        suggestSchd_ref.document().set(tmp)\n",
    "    return 'Done'"
   ]
  },
  {
   "cell_type": "code",
   "execution_count": 11,
   "id": "d32c65ef",
   "metadata": {},
   "outputs": [
    {
     "data": {
      "text/plain": [
       "'Done'"
      ]
     },
     "execution_count": 11,
     "metadata": {},
     "output_type": "execute_result"
    }
   ],
   "source": [
    "upload_collection(data)"
   ]
  }
 ],
 "metadata": {
  "kernelspec": {
   "display_name": "Python 3",
   "language": "python",
   "name": "python3"
  },
  "language_info": {
   "codemirror_mode": {
    "name": "ipython",
    "version": 3
   },
   "file_extension": ".py",
   "mimetype": "text/x-python",
   "name": "python",
   "nbconvert_exporter": "python",
   "pygments_lexer": "ipython3",
   "version": "3.9.4"
  }
 },
 "nbformat": 4,
 "nbformat_minor": 5
}
