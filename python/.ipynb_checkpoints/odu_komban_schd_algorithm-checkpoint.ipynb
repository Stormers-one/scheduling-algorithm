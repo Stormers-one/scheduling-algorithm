{
 "cells": [
  {
   "cell_type": "markdown",
   "metadata": {},
   "source": [
    "# odu komban Bus Scheduling Algorithm"
   ]
  },
  {
   "cell_type": "markdown",
   "metadata": {},
   "source": [
    "### Importing necessary libraries "
   ]
  },
  {
   "cell_type": "code",
   "execution_count": 1,
   "metadata": {},
   "outputs": [],
   "source": [
    "import numpy as np\n",
    "import matplotlib.pyplot as plt\n",
    "# plotinline \n",
    "from datetime import timedelta, date, datetime\n",
    "import time\n",
    "import random\n",
    "import pandas as pd\n",
    "from sklearn.tree import DecisionTreeClassifier \n",
    "from sklearn.model_selection import cross_val_score \n",
    "from sklearn.metrics import confusion_matrix\n",
    "from sklearn.model_selection import train_test_split as split\n",
    "from sklearn import tree\n"
   ]
  },
  {
   "cell_type": "markdown",
   "metadata": {},
   "source": [
    "### Generating the dataset \n",
    "\n",
    "#### Data description: \n",
    "    • speed: Real-time speed of the bus in commute. \n",
    "    • dist_prev: The distance between the current bus and the previous bus on the same route. \n",
    "    • dist_next: The distance between the current bus and the next bus on the same route. \n",
    "    • crowd_curr: The number of passengers currently in the bus. \n",
    "    • crowd_next: The number of passengers in the next bus on the same route. \n",
    "    • schd_time: The scheduled arrival time speciﬁed for bus at previous stop on their route. \n",
    "    • arr_time: The actual arrival time of the bus at the previous stop on their route. \n",
    "    • on_time: Whether the bus arrived on time or not at the previous stop on their route. \n",
    "    • time_delay: The diﬀerence between the actual arrival time and the scheduled arrival time"
   ]
  },
  {
   "cell_type": "code",
   "execution_count": 2,
   "metadata": {},
   "outputs": [
    {
     "data": {
      "text/html": [
       "<div>\n",
       "<style scoped>\n",
       "    .dataframe tbody tr th:only-of-type {\n",
       "        vertical-align: middle;\n",
       "    }\n",
       "\n",
       "    .dataframe tbody tr th {\n",
       "        vertical-align: top;\n",
       "    }\n",
       "\n",
       "    .dataframe thead th {\n",
       "        text-align: right;\n",
       "    }\n",
       "</style>\n",
       "<table border=\"1\" class=\"dataframe\">\n",
       "  <thead>\n",
       "    <tr style=\"text-align: right;\">\n",
       "      <th></th>\n",
       "      <th>crowd_curr</th>\n",
       "      <th>crowd_next</th>\n",
       "      <th>dist_prev</th>\n",
       "      <th>dist_next</th>\n",
       "      <th>speed</th>\n",
       "      <th>schd_time</th>\n",
       "      <th>delay</th>\n",
       "      <th>arr_time</th>\n",
       "      <th>on_time</th>\n",
       "    </tr>\n",
       "  </thead>\n",
       "  <tbody>\n",
       "    <tr>\n",
       "      <th>0</th>\n",
       "      <td>26</td>\n",
       "      <td>20</td>\n",
       "      <td>2.56</td>\n",
       "      <td>0.47</td>\n",
       "      <td>29.47</td>\n",
       "      <td>2018-12-31 15:28:01</td>\n",
       "      <td>-1 days +23:59:53.085739</td>\n",
       "      <td>2018-12-31 15:28:07.914261</td>\n",
       "      <td>1</td>\n",
       "    </tr>\n",
       "    <tr>\n",
       "      <th>1</th>\n",
       "      <td>36</td>\n",
       "      <td>27</td>\n",
       "      <td>2.89</td>\n",
       "      <td>0.29</td>\n",
       "      <td>64.07</td>\n",
       "      <td>2018-09-12 20:44:34</td>\n",
       "      <td>00:00:02.010782</td>\n",
       "      <td>2018-09-12 20:44:31.989218</td>\n",
       "      <td>0</td>\n",
       "    </tr>\n",
       "    <tr>\n",
       "      <th>2</th>\n",
       "      <td>23</td>\n",
       "      <td>34</td>\n",
       "      <td>1.58</td>\n",
       "      <td>2.05</td>\n",
       "      <td>57.27</td>\n",
       "      <td>2018-11-02 00:51:26</td>\n",
       "      <td>-1 days +23:59:51.810702</td>\n",
       "      <td>2018-11-02 00:51:34.189298</td>\n",
       "      <td>1</td>\n",
       "    </tr>\n",
       "    <tr>\n",
       "      <th>3</th>\n",
       "      <td>29</td>\n",
       "      <td>26</td>\n",
       "      <td>2.10</td>\n",
       "      <td>1.04</td>\n",
       "      <td>53.65</td>\n",
       "      <td>2018-03-22 11:39:35</td>\n",
       "      <td>-1 days +23:59:49.480018</td>\n",
       "      <td>2018-03-22 11:39:45.519982</td>\n",
       "      <td>1</td>\n",
       "    </tr>\n",
       "    <tr>\n",
       "      <th>4</th>\n",
       "      <td>26</td>\n",
       "      <td>27</td>\n",
       "      <td>2.23</td>\n",
       "      <td>1.92</td>\n",
       "      <td>28.54</td>\n",
       "      <td>2019-12-28 07:06:14</td>\n",
       "      <td>-1 days +23:59:55.317430</td>\n",
       "      <td>2019-12-28 07:06:18.682570</td>\n",
       "      <td>1</td>\n",
       "    </tr>\n",
       "    <tr>\n",
       "      <th>...</th>\n",
       "      <td>...</td>\n",
       "      <td>...</td>\n",
       "      <td>...</td>\n",
       "      <td>...</td>\n",
       "      <td>...</td>\n",
       "      <td>...</td>\n",
       "      <td>...</td>\n",
       "      <td>...</td>\n",
       "      <td>...</td>\n",
       "    </tr>\n",
       "    <tr>\n",
       "      <th>995</th>\n",
       "      <td>23</td>\n",
       "      <td>15</td>\n",
       "      <td>2.10</td>\n",
       "      <td>4.08</td>\n",
       "      <td>55.10</td>\n",
       "      <td>2019-06-04 17:31:17</td>\n",
       "      <td>00:00:03.963725</td>\n",
       "      <td>2019-06-04 17:31:13.036275</td>\n",
       "      <td>0</td>\n",
       "    </tr>\n",
       "    <tr>\n",
       "      <th>996</th>\n",
       "      <td>18</td>\n",
       "      <td>33</td>\n",
       "      <td>3.40</td>\n",
       "      <td>1.09</td>\n",
       "      <td>59.50</td>\n",
       "      <td>2018-09-01 20:34:46</td>\n",
       "      <td>-1 days +23:59:39.701183</td>\n",
       "      <td>2018-09-01 20:35:06.298817</td>\n",
       "      <td>1</td>\n",
       "    </tr>\n",
       "    <tr>\n",
       "      <th>997</th>\n",
       "      <td>28</td>\n",
       "      <td>20</td>\n",
       "      <td>2.16</td>\n",
       "      <td>1.81</td>\n",
       "      <td>45.31</td>\n",
       "      <td>2019-01-25 17:22:28</td>\n",
       "      <td>00:00:08.580395</td>\n",
       "      <td>2019-01-25 17:22:19.419605</td>\n",
       "      <td>0</td>\n",
       "    </tr>\n",
       "    <tr>\n",
       "      <th>998</th>\n",
       "      <td>18</td>\n",
       "      <td>16</td>\n",
       "      <td>0.86</td>\n",
       "      <td>0.79</td>\n",
       "      <td>55.49</td>\n",
       "      <td>2019-10-19 14:30:05</td>\n",
       "      <td>-1 days +23:59:59.898468</td>\n",
       "      <td>2019-10-19 14:30:05.101532</td>\n",
       "      <td>1</td>\n",
       "    </tr>\n",
       "    <tr>\n",
       "      <th>999</th>\n",
       "      <td>31</td>\n",
       "      <td>34</td>\n",
       "      <td>0.69</td>\n",
       "      <td>1.92</td>\n",
       "      <td>54.84</td>\n",
       "      <td>2018-05-13 02:47:15</td>\n",
       "      <td>-1 days +23:59:33.701144</td>\n",
       "      <td>2018-05-13 02:47:41.298856</td>\n",
       "      <td>1</td>\n",
       "    </tr>\n",
       "  </tbody>\n",
       "</table>\n",
       "<p>1000 rows × 9 columns</p>\n",
       "</div>"
      ],
      "text/plain": [
       "     crowd_curr  crowd_next  dist_prev  dist_next  speed           schd_time  \\\n",
       "0            26          20       2.56       0.47  29.47 2018-12-31 15:28:01   \n",
       "1            36          27       2.89       0.29  64.07 2018-09-12 20:44:34   \n",
       "2            23          34       1.58       2.05  57.27 2018-11-02 00:51:26   \n",
       "3            29          26       2.10       1.04  53.65 2018-03-22 11:39:35   \n",
       "4            26          27       2.23       1.92  28.54 2019-12-28 07:06:14   \n",
       "..          ...         ...        ...        ...    ...                 ...   \n",
       "995          23          15       2.10       4.08  55.10 2019-06-04 17:31:17   \n",
       "996          18          33       3.40       1.09  59.50 2018-09-01 20:34:46   \n",
       "997          28          20       2.16       1.81  45.31 2019-01-25 17:22:28   \n",
       "998          18          16       0.86       0.79  55.49 2019-10-19 14:30:05   \n",
       "999          31          34       0.69       1.92  54.84 2018-05-13 02:47:15   \n",
       "\n",
       "                       delay                   arr_time  on_time  \n",
       "0   -1 days +23:59:53.085739 2018-12-31 15:28:07.914261        1  \n",
       "1            00:00:02.010782 2018-09-12 20:44:31.989218        0  \n",
       "2   -1 days +23:59:51.810702 2018-11-02 00:51:34.189298        1  \n",
       "3   -1 days +23:59:49.480018 2018-03-22 11:39:45.519982        1  \n",
       "4   -1 days +23:59:55.317430 2019-12-28 07:06:18.682570        1  \n",
       "..                       ...                        ...      ...  \n",
       "995          00:00:03.963725 2019-06-04 17:31:13.036275        0  \n",
       "996 -1 days +23:59:39.701183 2018-09-01 20:35:06.298817        1  \n",
       "997          00:00:08.580395 2019-01-25 17:22:19.419605        0  \n",
       "998 -1 days +23:59:59.898468 2019-10-19 14:30:05.101532        1  \n",
       "999 -1 days +23:59:33.701144 2018-05-13 02:47:41.298856        1  \n",
       "\n",
       "[1000 rows x 9 columns]"
      ]
     },
     "execution_count": 2,
     "metadata": {},
     "output_type": "execute_result"
    }
   ],
   "source": [
    "np.random.seed(0)\n",
    "speed = np.round(np.random.normal(50,15,1000),2)\n",
    "dist_prev = np.abs(np.round(np.random.normal(2,1,1000),2))\n",
    "dist_next = np.abs(np.round(np.random.normal(2,1,1000),2))\n",
    "crowd_curr = np.random.poisson(25,1000)\n",
    "crowd_next = np.random.poisson(25,1000)\n",
    "speed = np.round(np.random.normal(50,15,1000),2)\n",
    "\n",
    "def random_dates(start, end, n=1000):\n",
    "    start_u = start.value//10**9\n",
    "    end_u = end.value//10**9\n",
    "    return pd.to_datetime(np.random.randint(start_u, end_u, n), unit='s')\n",
    "start = pd.to_datetime('2018-01-01')\n",
    "end = pd.to_datetime('2020-01-01')\n",
    "schd_time = random_dates(start, end)\n",
    "\n",
    "delay = [timedelta(seconds = np.random.normal(-3,12),milliseconds = np.random.normal(300,100)) for i in range(1000)]\n",
    "\n",
    "dataset = {\"crowd_curr\":crowd_curr,\"crowd_next\":crowd_next,\"dist_prev\":dist_prev,\"dist_next\":dist_next,\"speed\":speed,\"schd_time\" : schd_time,\"delay\": delay}\n",
    "df = pd.DataFrame(dataset)\n",
    "df['arr_time'] = df['schd_time'] - df['delay']\n",
    "\n",
    "df['on_time'] = (df['delay']<timedelta(seconds=0))*1\n",
    "df\n"
   ]
  },
  {
   "cell_type": "markdown",
   "metadata": {},
   "source": [
    "### Generating an algorithm to label the datasets \n",
    "\n",
    "Each record is considered as a bus and the label is the indication given to the bus driver whether to maintain speed, decrease speed, or to increase represented by 0,1,2 respectively"
   ]
  },
  {
   "cell_type": "code",
   "execution_count": 3,
   "metadata": {},
   "outputs": [
    {
     "data": {
      "text/plain": [
       "2    499\n",
       "0    345\n",
       "1    156\n",
       "Name: indicate, dtype: int64"
      ]
     },
     "execution_count": 3,
     "metadata": {},
     "output_type": "execute_result"
    }
   ],
   "source": [
    "conditions = [\n",
    "    (df[\"dist_next\"].lt(1.8) & df[\"dist_prev\"].lt(1.8) & df[\"crowd_next\"].lt(25) & df[\"crowd_curr\"].lt(28)),\n",
    "    (df[\"dist_next\"].lt(1.8) & df[\"dist_prev\"].lt(1.8) & df[\"crowd_next\"].lt(25) & df[\"crowd_curr\"].ge(28)),\n",
    "    (df[\"dist_next\"].lt(1.8) & df[\"dist_prev\"].lt(1.8) & df[\"crowd_next\"].ge(25) & df[\"crowd_curr\"].lt(28)),\n",
    "    (df[\"dist_next\"].lt(1.8) & df[\"dist_prev\"].lt(1.8) & df[\"crowd_next\"].ge(25) & df[\"crowd_curr\"].ge(28)),\n",
    "    (df[\"dist_next\"].lt(1.8) & df[\"dist_prev\"].ge(1.8) & df[\"crowd_next\"].lt(25) & df[\"crowd_curr\"].lt(28)),\n",
    "    (df[\"dist_next\"].lt(1.8) & df[\"dist_prev\"].ge(1.8) & df[\"crowd_next\"].lt(25) & df[\"crowd_curr\"].ge(28)),\n",
    "    (df[\"dist_next\"].lt(1.8) & df[\"dist_prev\"].ge(1.8) & df[\"crowd_next\"].ge(25) & df[\"crowd_curr\"].lt(28)),\n",
    "    (df[\"dist_next\"].lt(1.8) & df[\"dist_prev\"].ge(1.8) & df[\"crowd_next\"].ge(25) & df[\"crowd_curr\"].ge(28)),\n",
    "    (df[\"dist_next\"].ge(1.8) & df[\"dist_prev\"].lt(1.8) & df[\"crowd_next\"].lt(25) & df[\"crowd_curr\"].lt(28)),\n",
    "    (df[\"dist_next\"].ge(1.8) & df[\"dist_prev\"].lt(1.8) & df[\"crowd_next\"].lt(25) & df[\"crowd_curr\"].ge(28)),\n",
    "    (df[\"dist_next\"].ge(1.8) & df[\"dist_prev\"].lt(1.8) & df[\"crowd_next\"].ge(25) & df[\"crowd_curr\"].lt(28)),\n",
    "    (df[\"dist_next\"].ge(1.8) & df[\"dist_prev\"].lt(1.8) & df[\"crowd_next\"].ge(25) & df[\"crowd_curr\"].ge(28)),\n",
    "    (df[\"dist_next\"].ge(1.8) & df[\"dist_prev\"].ge(1.8) & df[\"crowd_next\"].lt(25) & df[\"crowd_curr\"].lt(28)),\n",
    "    (df[\"dist_next\"].ge(1.8) & df[\"dist_prev\"].ge(1.8) & df[\"crowd_next\"].lt(25) & df[\"crowd_curr\"].ge(28)),\n",
    "    (df[\"dist_next\"].ge(1.8) & df[\"dist_prev\"].ge(1.8) & df[\"crowd_next\"].ge(25) & df[\"crowd_curr\"].lt(28)),\n",
    "    (df[\"dist_next\"].ge(1.8) & df[\"dist_prev\"].ge(1.8) & df[\"crowd_next\"].ge(25) & df[\"crowd_curr\"].ge(28)),\n",
    "]\n",
    "choices = [0,0,2,0,1,1,2,1,2,0,2,2,0,0,2,0]\n",
    "\n",
    "df['indicate'] = np.select(conditions, choices)\n",
    "# df['indicate'] = df['indicate'].astype('category')\n",
    "df['indicate'].value_counts()"
   ]
  },
  {
   "cell_type": "markdown",
   "metadata": {},
   "source": [
    "Thus we obtain the following observations from above table:\n",
    "\n",
    "    • Number of buses instructed to “Maintain Speed” : 345 \n",
    "    • Number of buses instructed to “Slow Down” : 156\n",
    "    • Number of buses instructed to “Speed Up” : 499"
   ]
  },
  {
   "cell_type": "markdown",
   "metadata": {},
   "source": [
    "### Modelling a decision tree algorithm to make future scheduling \n",
    "\n",
    "Splitting the dataset into train and test dataset"
   ]
  },
  {
   "cell_type": "code",
   "execution_count": 7,
   "metadata": {},
   "outputs": [],
   "source": [
    "X = df.iloc[:,0:4]\n",
    "y = df.iloc[:,9]\n",
    "X_train, X_test, y_train, y_test = split(X, y, test_size=0.25, random_state=0)"
   ]
  },
  {
   "cell_type": "markdown",
   "metadata": {},
   "source": [
    "Building the decision tree model"
   ]
  },
  {
   "cell_type": "code",
   "execution_count": 8,
   "metadata": {},
   "outputs": [
    {
     "data": {
      "text/plain": [
       "DecisionTreeClassifier(random_state=0)"
      ]
     },
     "execution_count": 8,
     "metadata": {},
     "output_type": "execute_result"
    }
   ],
   "source": [
    "dtree = DecisionTreeClassifier(random_state=0,criterion='gini', splitter='best')\n",
    "dtree.fit(X_train,y_train)"
   ]
  },
  {
   "cell_type": "markdown",
   "metadata": {},
   "source": [
    "Visualizing the decision tree"
   ]
  },
  {
   "cell_type": "code",
   "execution_count": 10,
   "metadata": {},
   "outputs": [
    {
     "data": {
      "image/png": "[encoded data removed]",
      "text/plain": [
       "<Figure size 900x900 with 1 Axes>"
      ]
     },
     "metadata": {
      "needs_background": "light"
     },
     "output_type": "display_data"
    }
   ],
   "source": [
    "fn=['crowd_curr','crowd_next','dist_prev','dist_next']\n",
    "cn=['Maintain Speed','Slow Down','Speed up']\n",
    "fig, axes = plt.subplots(nrows = 1,ncols = 1,figsize = (3,3), dpi=300)\n",
    "\n",
    "tree.plot_tree(dtree,feature_names = fn, \n",
    "               class_names=cn,\n",
    "               filled = True);"
   ]
  },
  {
   "cell_type": "markdown",
   "metadata": {},
   "source": [
    "### Using speed and on_time parameters \n",
    "\n",
    "The speed and on_time parameters can be used for further analysis and using a regression model, we can provide the driver with recommended speed indication to maintain their schedule, and to keep them aware of whether they’re on time or not"
   ]
  },
  {
   "cell_type": "code",
   "execution_count": 22,
   "metadata": {},
   "outputs": [
    {
     "data": {
      "text/html": [
       "<div>\n",
       "<style scoped>\n",
       "    .dataframe tbody tr th:only-of-type {\n",
       "        vertical-align: middle;\n",
       "    }\n",
       "\n",
       "    .dataframe tbody tr th {\n",
       "        vertical-align: top;\n",
       "    }\n",
       "\n",
       "    .dataframe thead th {\n",
       "        text-align: right;\n",
       "    }\n",
       "</style>\n",
       "<table border=\"1\" class=\"dataframe\">\n",
       "  <thead>\n",
       "    <tr style=\"text-align: right;\">\n",
       "      <th></th>\n",
       "      <th>speed</th>\n",
       "      <th>on_time</th>\n",
       "    </tr>\n",
       "  </thead>\n",
       "  <tbody>\n",
       "    <tr>\n",
       "      <th>0</th>\n",
       "      <td>29.47</td>\n",
       "      <td>1</td>\n",
       "    </tr>\n",
       "    <tr>\n",
       "      <th>1</th>\n",
       "      <td>64.07</td>\n",
       "      <td>0</td>\n",
       "    </tr>\n",
       "    <tr>\n",
       "      <th>2</th>\n",
       "      <td>57.27</td>\n",
       "      <td>1</td>\n",
       "    </tr>\n",
       "    <tr>\n",
       "      <th>3</th>\n",
       "      <td>53.65</td>\n",
       "      <td>1</td>\n",
       "    </tr>\n",
       "    <tr>\n",
       "      <th>4</th>\n",
       "      <td>28.54</td>\n",
       "      <td>1</td>\n",
       "    </tr>\n",
       "    <tr>\n",
       "      <th>...</th>\n",
       "      <td>...</td>\n",
       "      <td>...</td>\n",
       "    </tr>\n",
       "    <tr>\n",
       "      <th>995</th>\n",
       "      <td>55.10</td>\n",
       "      <td>0</td>\n",
       "    </tr>\n",
       "    <tr>\n",
       "      <th>996</th>\n",
       "      <td>59.50</td>\n",
       "      <td>1</td>\n",
       "    </tr>\n",
       "    <tr>\n",
       "      <th>997</th>\n",
       "      <td>45.31</td>\n",
       "      <td>0</td>\n",
       "    </tr>\n",
       "    <tr>\n",
       "      <th>998</th>\n",
       "      <td>55.49</td>\n",
       "      <td>1</td>\n",
       "    </tr>\n",
       "    <tr>\n",
       "      <th>999</th>\n",
       "      <td>54.84</td>\n",
       "      <td>1</td>\n",
       "    </tr>\n",
       "  </tbody>\n",
       "</table>\n",
       "<p>1000 rows × 2 columns</p>\n",
       "</div>"
      ],
      "text/plain": [
       "     speed  on_time\n",
       "0    29.47        1\n",
       "1    64.07        0\n",
       "2    57.27        1\n",
       "3    53.65        1\n",
       "4    28.54        1\n",
       "..     ...      ...\n",
       "995  55.10        0\n",
       "996  59.50        1\n",
       "997  45.31        0\n",
       "998  55.49        1\n",
       "999  54.84        1\n",
       "\n",
       "[1000 rows x 2 columns]"
      ]
     },
     "execution_count": 22,
     "metadata": {},
     "output_type": "execute_result"
    }
   ],
   "source": [
    "df[['speed','on_time']]"
   ]
  },
  {
   "cell_type": "code",
   "execution_count": null,
   "metadata": {},
   "outputs": [],
   "source": []
  }
 ],
 "metadata": {
  "kernelspec": {
   "display_name": "Python 3",
   "language": "python",
   "name": "python3"
  },
  "language_info": {
   "codemirror_mode": {
    "name": "ipython",
    "version": 3
   },
   "file_extension": ".py",
   "mimetype": "text/x-python",
   "name": "python",
   "nbconvert_exporter": "python",
   "pygments_lexer": "ipython3",
   "version": "3.8.2"
  }
 },
 "nbformat": 4,
 "nbformat_minor": 4
}
